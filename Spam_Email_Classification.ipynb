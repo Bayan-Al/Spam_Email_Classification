{
  "cells": [
    {
      "cell_type": "markdown",
      "metadata": {
        "id": "5f3w5M3hSSzG"
      },
      "source": [
        "# Spam Email Classification"
      ]
    },
    {
      "cell_type": "markdown",
      "metadata": {
        "id": "GaDoHVJ2N2CC"
      },
      "source": [
        "This project explores classifying spam email using machine learning techniques.\n",
        "\n",
        "This project utilizes the Spambase dataset from the UCI Machine Learning Repository, which contains features extracted from emails and a binary label indicating whether each email is spam or not.\n",
        "\n",
        "The goal is to build and evaluate several classification models, including Gaussian Naive Bayes, Logistic Regression, and Random Forest, to predict whether an email is spam.\n",
        "\n",
        "This project will assess the performance of these models using metrics such as accuracy, F1-score, and Area Under the ROC Curve (AUC).\n",
        "\n",
        "Furthermore, it will employ hyperparameter tuning and cross-validation to optimize model performance and ensure robustness.\n",
        "\n",
        "Finally, it will analyze the results, compare the models, discuss the implications of the findings, and identify potential limitations of the analysis."
      ]
    },
    {
      "cell_type": "code",
      "execution_count": null,
      "metadata": {
        "id": "k2MbpSKV2NdK"
      },
      "outputs": [],
      "source": [
        "# pip install ucimlrepo"
      ]
    },
    {
      "cell_type": "markdown",
      "metadata": {
        "id": "ywzGf6El7Pfl"
      },
      "source": [
        "1. Libraries"
      ]
    },
    {
      "cell_type": "code",
      "execution_count": null,
      "metadata": {
        "id": "4tv20gCe7Qp_"
      },
      "outputs": [],
      "source": [
        "import pandas as pd\n",
        "import numpy as np\n",
        "import matplotlib.pyplot as plt\n",
        "import seaborn as sns\n",
        "\n",
        "from sklearn.model_selection import train_test_split, cross_val_score, GridSearchCV\n",
        "from sklearn.preprocessing import StandardScaler\n",
        "from sklearn.naive_bayes import GaussianNB\n",
        "from sklearn.linear_model import LogisticRegression\n",
        "from sklearn.ensemble import RandomForestClassifier\n",
        "from sklearn.metrics import (\n",
        "    classification_report,\n",
        "    accuracy_score,\n",
        "    confusion_matrix,\n",
        "    ConfusionMatrixDisplay,\n",
        "    roc_curve,\n",
        "    auc,\n",
        "    precision_recall_curve,\n",
        ")"
      ]
    },
    {
      "cell_type": "markdown",
      "metadata": {
        "id": "SzDhaty3PhWz"
      },
      "source": []
    },
    {
      "cell_type": "markdown",
      "metadata": {
        "id": "Ukpd6GkXzJw_"
      },
      "source": [
        "1. fetching the dataset and creating the Data Frames."
      ]
    },
    {
      "cell_type": "code",
      "execution_count": null,
      "metadata": {
        "id": "Ge4DCWCS2OcK"
      },
      "outputs": [],
      "source": [
        "from ucimlrepo import fetch_ucirepo\n",
        "\n",
        "# fetch dataset\n",
        "spambase = fetch_ucirepo(id=94)\n",
        "\n",
        "# data (as pandas dataframes)\n",
        "X = spambase.data.features\n",
        "y = spambase.data.targets\n",
        "\n",
        "\n",
        "y = y.values.ravel()  # Convert y to a 1D array"
      ]
    },
    {
      "cell_type": "markdown",
      "metadata": {
        "id": "EZQL1wgzysGi"
      },
      "source": [
        "2. Exploratory Data Analysis (EDA)"
      ]
    },
    {
      "cell_type": "code",
      "execution_count": null,
      "metadata": {
        "id": "3CsZZk4GyrNB",
        "colab": {
          "base_uri": "https://localhost:8080/"
        },
        "outputId": "df0c8747-6c48-4ea1-eaf3-1a7831e7f243"
      },
      "outputs": [
        {
          "output_type": "stream",
          "name": "stdout",
          "text": [
            "Number of rows: 4601\n",
            "Number of columns: 57\n",
            "\n",
            "       word_freq_make  word_freq_address  word_freq_all  word_freq_3d  \\\n",
            "count     4601.000000        4601.000000    4601.000000   4601.000000   \n",
            "mean         0.104553           0.213015       0.280656      0.065425   \n",
            "std          0.305358           1.290575       0.504143      1.395151   \n",
            "min          0.000000           0.000000       0.000000      0.000000   \n",
            "25%          0.000000           0.000000       0.000000      0.000000   \n",
            "50%          0.000000           0.000000       0.000000      0.000000   \n",
            "75%          0.000000           0.000000       0.420000      0.000000   \n",
            "max          4.540000          14.280000       5.100000     42.810000   \n",
            "\n",
            "       word_freq_our  word_freq_over  word_freq_remove  word_freq_internet  \\\n",
            "count    4601.000000     4601.000000       4601.000000         4601.000000   \n",
            "mean        0.312223        0.095901          0.114208            0.105295   \n",
            "std         0.672513        0.273824          0.391441            0.401071   \n",
            "min         0.000000        0.000000          0.000000            0.000000   \n",
            "25%         0.000000        0.000000          0.000000            0.000000   \n",
            "50%         0.000000        0.000000          0.000000            0.000000   \n",
            "75%         0.380000        0.000000          0.000000            0.000000   \n",
            "max        10.000000        5.880000          7.270000           11.110000   \n",
            "\n",
            "       word_freq_order  word_freq_mail  ...  word_freq_conference  \\\n",
            "count      4601.000000     4601.000000  ...           4601.000000   \n",
            "mean          0.090067        0.239413  ...              0.031869   \n",
            "std           0.278616        0.644755  ...              0.285735   \n",
            "min           0.000000        0.000000  ...              0.000000   \n",
            "25%           0.000000        0.000000  ...              0.000000   \n",
            "50%           0.000000        0.000000  ...              0.000000   \n",
            "75%           0.000000        0.160000  ...              0.000000   \n",
            "max           5.260000       18.180000  ...             10.000000   \n",
            "\n",
            "       char_freq_;  char_freq_(  char_freq_[  char_freq_!  char_freq_$  \\\n",
            "count  4601.000000  4601.000000  4601.000000  4601.000000  4601.000000   \n",
            "mean      0.038575     0.139030     0.016976     0.269071     0.075811   \n",
            "std       0.243471     0.270355     0.109394     0.815672     0.245882   \n",
            "min       0.000000     0.000000     0.000000     0.000000     0.000000   \n",
            "25%       0.000000     0.000000     0.000000     0.000000     0.000000   \n",
            "50%       0.000000     0.065000     0.000000     0.000000     0.000000   \n",
            "75%       0.000000     0.188000     0.000000     0.315000     0.052000   \n",
            "max       4.385000     9.752000     4.081000    32.478000     6.003000   \n",
            "\n",
            "       char_freq_#  capital_run_length_average  capital_run_length_longest  \\\n",
            "count  4601.000000                 4601.000000                 4601.000000   \n",
            "mean      0.044238                    5.191515                   52.172789   \n",
            "std       0.429342                   31.729449                  194.891310   \n",
            "min       0.000000                    1.000000                    1.000000   \n",
            "25%       0.000000                    1.588000                    6.000000   \n",
            "50%       0.000000                    2.276000                   15.000000   \n",
            "75%       0.000000                    3.706000                   43.000000   \n",
            "max      19.829000                 1102.500000                 9989.000000   \n",
            "\n",
            "       capital_run_length_total  \n",
            "count               4601.000000  \n",
            "mean                 283.289285  \n",
            "std                  606.347851  \n",
            "min                    1.000000  \n",
            "25%                   35.000000  \n",
            "50%                   95.000000  \n",
            "75%                  266.000000  \n",
            "max                15841.000000  \n",
            "\n",
            "[8 rows x 57 columns]\n"
          ]
        }
      ],
      "source": [
        "# 2. Exploratory Data Analysis (EDA)\n",
        "\n",
        "print(f\"Number of rows: {X.shape[0]}\")\n",
        "print(f\"Number of columns: {X.shape[1]}\")\n",
        "print()\n",
        "\n",
        "\n",
        "# --- Descriptive Statistics ---\n",
        "print(X.describe())"
      ]
    },
    {
      "cell_type": "markdown",
      "metadata": {
        "id": "o3ylse1Bzdan"
      },
      "source": [
        "3. Data Preprocessing"
      ]
    },
    {
      "cell_type": "code",
      "execution_count": null,
      "metadata": {
        "id": "V3Fx0CpG2OfS",
        "colab": {
          "base_uri": "https://localhost:8080/"
        },
        "outputId": "6bb62446-b6cb-4ae3-d444-97f071775a89"
      },
      "outputs": [
        {
          "output_type": "stream",
          "name": "stdout",
          "text": [
            "False\n",
            "False\n"
          ]
        }
      ],
      "source": [
        "# Check for missing values\n",
        "print(X.isnull().sum().any()) # False means no missing values\n",
        "print(pd.DataFrame(y).isnull().sum().any()) # False means no missing values"
      ]
    },
    {
      "cell_type": "code",
      "execution_count": null,
      "metadata": {
        "id": "TfJt4vc713Qe"
      },
      "outputs": [],
      "source": [
        "# Scale the features\n",
        "scaler = StandardScaler()\n",
        "X_scaled = scaler.fit_transform(X)  # Scale the features"
      ]
    },
    {
      "cell_type": "markdown",
      "metadata": {
        "id": "jHMMBVM22Bfi"
      },
      "source": [
        "4. Spliting Data into Training and Testing Sets\n"
      ]
    },
    {
      "cell_type": "code",
      "execution_count": null,
      "metadata": {
        "id": "cqMurSY81_wD"
      },
      "outputs": [],
      "source": [
        "X_train, X_test, y_train, y_test = train_test_split(X_scaled, y, test_size=0.2, random_state=42) # 80/20 split"
      ]
    },
    {
      "cell_type": "markdown",
      "metadata": {
        "id": "b64FTtXVq8Ni"
      },
      "source": [
        "___________________________________________________________________________________________________\n"
      ]
    },
    {
      "cell_type": "markdown",
      "metadata": {
        "id": "Wnt3cD1w2McB"
      },
      "source": [
        "5. Model Selection and Training\n"
      ]
    },
    {
      "cell_type": "markdown",
      "metadata": {
        "id": "97WGxZYS52Fm"
      },
      "source": [
        "5.1 Naive Bayes model"
      ]
    },
    {
      "cell_type": "code",
      "execution_count": null,
      "metadata": {
        "id": "FlQhnMKY2cBJ",
        "colab": {
          "base_uri": "https://localhost:8080/",
          "height": 80
        },
        "outputId": "192e7fcd-a51a-439a-9be1-248eb5497729"
      },
      "outputs": [
        {
          "output_type": "execute_result",
          "data": {
            "text/plain": [
              "GaussianNB()"
            ],
            "text/html": [
              "<style>#sk-container-id-1 {\n",
              "  /* Definition of color scheme common for light and dark mode */\n",
              "  --sklearn-color-text: #000;\n",
              "  --sklearn-color-text-muted: #666;\n",
              "  --sklearn-color-line: gray;\n",
              "  /* Definition of color scheme for unfitted estimators */\n",
              "  --sklearn-color-unfitted-level-0: #fff5e6;\n",
              "  --sklearn-color-unfitted-level-1: #f6e4d2;\n",
              "  --sklearn-color-unfitted-level-2: #ffe0b3;\n",
              "  --sklearn-color-unfitted-level-3: chocolate;\n",
              "  /* Definition of color scheme for fitted estimators */\n",
              "  --sklearn-color-fitted-level-0: #f0f8ff;\n",
              "  --sklearn-color-fitted-level-1: #d4ebff;\n",
              "  --sklearn-color-fitted-level-2: #b3dbfd;\n",
              "  --sklearn-color-fitted-level-3: cornflowerblue;\n",
              "\n",
              "  /* Specific color for light theme */\n",
              "  --sklearn-color-text-on-default-background: var(--sg-text-color, var(--theme-code-foreground, var(--jp-content-font-color1, black)));\n",
              "  --sklearn-color-background: var(--sg-background-color, var(--theme-background, var(--jp-layout-color0, white)));\n",
              "  --sklearn-color-border-box: var(--sg-text-color, var(--theme-code-foreground, var(--jp-content-font-color1, black)));\n",
              "  --sklearn-color-icon: #696969;\n",
              "\n",
              "  @media (prefers-color-scheme: dark) {\n",
              "    /* Redefinition of color scheme for dark theme */\n",
              "    --sklearn-color-text-on-default-background: var(--sg-text-color, var(--theme-code-foreground, var(--jp-content-font-color1, white)));\n",
              "    --sklearn-color-background: var(--sg-background-color, var(--theme-background, var(--jp-layout-color0, #111)));\n",
              "    --sklearn-color-border-box: var(--sg-text-color, var(--theme-code-foreground, var(--jp-content-font-color1, white)));\n",
              "    --sklearn-color-icon: #878787;\n",
              "  }\n",
              "}\n",
              "\n",
              "#sk-container-id-1 {\n",
              "  color: var(--sklearn-color-text);\n",
              "}\n",
              "\n",
              "#sk-container-id-1 pre {\n",
              "  padding: 0;\n",
              "}\n",
              "\n",
              "#sk-container-id-1 input.sk-hidden--visually {\n",
              "  border: 0;\n",
              "  clip: rect(1px 1px 1px 1px);\n",
              "  clip: rect(1px, 1px, 1px, 1px);\n",
              "  height: 1px;\n",
              "  margin: -1px;\n",
              "  overflow: hidden;\n",
              "  padding: 0;\n",
              "  position: absolute;\n",
              "  width: 1px;\n",
              "}\n",
              "\n",
              "#sk-container-id-1 div.sk-dashed-wrapped {\n",
              "  border: 1px dashed var(--sklearn-color-line);\n",
              "  margin: 0 0.4em 0.5em 0.4em;\n",
              "  box-sizing: border-box;\n",
              "  padding-bottom: 0.4em;\n",
              "  background-color: var(--sklearn-color-background);\n",
              "}\n",
              "\n",
              "#sk-container-id-1 div.sk-container {\n",
              "  /* jupyter's `normalize.less` sets `[hidden] { display: none; }`\n",
              "     but bootstrap.min.css set `[hidden] { display: none !important; }`\n",
              "     so we also need the `!important` here to be able to override the\n",
              "     default hidden behavior on the sphinx rendered scikit-learn.org.\n",
              "     See: https://github.com/scikit-learn/scikit-learn/issues/21755 */\n",
              "  display: inline-block !important;\n",
              "  position: relative;\n",
              "}\n",
              "\n",
              "#sk-container-id-1 div.sk-text-repr-fallback {\n",
              "  display: none;\n",
              "}\n",
              "\n",
              "div.sk-parallel-item,\n",
              "div.sk-serial,\n",
              "div.sk-item {\n",
              "  /* draw centered vertical line to link estimators */\n",
              "  background-image: linear-gradient(var(--sklearn-color-text-on-default-background), var(--sklearn-color-text-on-default-background));\n",
              "  background-size: 2px 100%;\n",
              "  background-repeat: no-repeat;\n",
              "  background-position: center center;\n",
              "}\n",
              "\n",
              "/* Parallel-specific style estimator block */\n",
              "\n",
              "#sk-container-id-1 div.sk-parallel-item::after {\n",
              "  content: \"\";\n",
              "  width: 100%;\n",
              "  border-bottom: 2px solid var(--sklearn-color-text-on-default-background);\n",
              "  flex-grow: 1;\n",
              "}\n",
              "\n",
              "#sk-container-id-1 div.sk-parallel {\n",
              "  display: flex;\n",
              "  align-items: stretch;\n",
              "  justify-content: center;\n",
              "  background-color: var(--sklearn-color-background);\n",
              "  position: relative;\n",
              "}\n",
              "\n",
              "#sk-container-id-1 div.sk-parallel-item {\n",
              "  display: flex;\n",
              "  flex-direction: column;\n",
              "}\n",
              "\n",
              "#sk-container-id-1 div.sk-parallel-item:first-child::after {\n",
              "  align-self: flex-end;\n",
              "  width: 50%;\n",
              "}\n",
              "\n",
              "#sk-container-id-1 div.sk-parallel-item:last-child::after {\n",
              "  align-self: flex-start;\n",
              "  width: 50%;\n",
              "}\n",
              "\n",
              "#sk-container-id-1 div.sk-parallel-item:only-child::after {\n",
              "  width: 0;\n",
              "}\n",
              "\n",
              "/* Serial-specific style estimator block */\n",
              "\n",
              "#sk-container-id-1 div.sk-serial {\n",
              "  display: flex;\n",
              "  flex-direction: column;\n",
              "  align-items: center;\n",
              "  background-color: var(--sklearn-color-background);\n",
              "  padding-right: 1em;\n",
              "  padding-left: 1em;\n",
              "}\n",
              "\n",
              "\n",
              "/* Toggleable style: style used for estimator/Pipeline/ColumnTransformer box that is\n",
              "clickable and can be expanded/collapsed.\n",
              "- Pipeline and ColumnTransformer use this feature and define the default style\n",
              "- Estimators will overwrite some part of the style using the `sk-estimator` class\n",
              "*/\n",
              "\n",
              "/* Pipeline and ColumnTransformer style (default) */\n",
              "\n",
              "#sk-container-id-1 div.sk-toggleable {\n",
              "  /* Default theme specific background. It is overwritten whether we have a\n",
              "  specific estimator or a Pipeline/ColumnTransformer */\n",
              "  background-color: var(--sklearn-color-background);\n",
              "}\n",
              "\n",
              "/* Toggleable label */\n",
              "#sk-container-id-1 label.sk-toggleable__label {\n",
              "  cursor: pointer;\n",
              "  display: flex;\n",
              "  width: 100%;\n",
              "  margin-bottom: 0;\n",
              "  padding: 0.5em;\n",
              "  box-sizing: border-box;\n",
              "  text-align: center;\n",
              "  align-items: start;\n",
              "  justify-content: space-between;\n",
              "  gap: 0.5em;\n",
              "}\n",
              "\n",
              "#sk-container-id-1 label.sk-toggleable__label .caption {\n",
              "  font-size: 0.6rem;\n",
              "  font-weight: lighter;\n",
              "  color: var(--sklearn-color-text-muted);\n",
              "}\n",
              "\n",
              "#sk-container-id-1 label.sk-toggleable__label-arrow:before {\n",
              "  /* Arrow on the left of the label */\n",
              "  content: \"▸\";\n",
              "  float: left;\n",
              "  margin-right: 0.25em;\n",
              "  color: var(--sklearn-color-icon);\n",
              "}\n",
              "\n",
              "#sk-container-id-1 label.sk-toggleable__label-arrow:hover:before {\n",
              "  color: var(--sklearn-color-text);\n",
              "}\n",
              "\n",
              "/* Toggleable content - dropdown */\n",
              "\n",
              "#sk-container-id-1 div.sk-toggleable__content {\n",
              "  max-height: 0;\n",
              "  max-width: 0;\n",
              "  overflow: hidden;\n",
              "  text-align: left;\n",
              "  /* unfitted */\n",
              "  background-color: var(--sklearn-color-unfitted-level-0);\n",
              "}\n",
              "\n",
              "#sk-container-id-1 div.sk-toggleable__content.fitted {\n",
              "  /* fitted */\n",
              "  background-color: var(--sklearn-color-fitted-level-0);\n",
              "}\n",
              "\n",
              "#sk-container-id-1 div.sk-toggleable__content pre {\n",
              "  margin: 0.2em;\n",
              "  border-radius: 0.25em;\n",
              "  color: var(--sklearn-color-text);\n",
              "  /* unfitted */\n",
              "  background-color: var(--sklearn-color-unfitted-level-0);\n",
              "}\n",
              "\n",
              "#sk-container-id-1 div.sk-toggleable__content.fitted pre {\n",
              "  /* unfitted */\n",
              "  background-color: var(--sklearn-color-fitted-level-0);\n",
              "}\n",
              "\n",
              "#sk-container-id-1 input.sk-toggleable__control:checked~div.sk-toggleable__content {\n",
              "  /* Expand drop-down */\n",
              "  max-height: 200px;\n",
              "  max-width: 100%;\n",
              "  overflow: auto;\n",
              "}\n",
              "\n",
              "#sk-container-id-1 input.sk-toggleable__control:checked~label.sk-toggleable__label-arrow:before {\n",
              "  content: \"▾\";\n",
              "}\n",
              "\n",
              "/* Pipeline/ColumnTransformer-specific style */\n",
              "\n",
              "#sk-container-id-1 div.sk-label input.sk-toggleable__control:checked~label.sk-toggleable__label {\n",
              "  color: var(--sklearn-color-text);\n",
              "  background-color: var(--sklearn-color-unfitted-level-2);\n",
              "}\n",
              "\n",
              "#sk-container-id-1 div.sk-label.fitted input.sk-toggleable__control:checked~label.sk-toggleable__label {\n",
              "  background-color: var(--sklearn-color-fitted-level-2);\n",
              "}\n",
              "\n",
              "/* Estimator-specific style */\n",
              "\n",
              "/* Colorize estimator box */\n",
              "#sk-container-id-1 div.sk-estimator input.sk-toggleable__control:checked~label.sk-toggleable__label {\n",
              "  /* unfitted */\n",
              "  background-color: var(--sklearn-color-unfitted-level-2);\n",
              "}\n",
              "\n",
              "#sk-container-id-1 div.sk-estimator.fitted input.sk-toggleable__control:checked~label.sk-toggleable__label {\n",
              "  /* fitted */\n",
              "  background-color: var(--sklearn-color-fitted-level-2);\n",
              "}\n",
              "\n",
              "#sk-container-id-1 div.sk-label label.sk-toggleable__label,\n",
              "#sk-container-id-1 div.sk-label label {\n",
              "  /* The background is the default theme color */\n",
              "  color: var(--sklearn-color-text-on-default-background);\n",
              "}\n",
              "\n",
              "/* On hover, darken the color of the background */\n",
              "#sk-container-id-1 div.sk-label:hover label.sk-toggleable__label {\n",
              "  color: var(--sklearn-color-text);\n",
              "  background-color: var(--sklearn-color-unfitted-level-2);\n",
              "}\n",
              "\n",
              "/* Label box, darken color on hover, fitted */\n",
              "#sk-container-id-1 div.sk-label.fitted:hover label.sk-toggleable__label.fitted {\n",
              "  color: var(--sklearn-color-text);\n",
              "  background-color: var(--sklearn-color-fitted-level-2);\n",
              "}\n",
              "\n",
              "/* Estimator label */\n",
              "\n",
              "#sk-container-id-1 div.sk-label label {\n",
              "  font-family: monospace;\n",
              "  font-weight: bold;\n",
              "  display: inline-block;\n",
              "  line-height: 1.2em;\n",
              "}\n",
              "\n",
              "#sk-container-id-1 div.sk-label-container {\n",
              "  text-align: center;\n",
              "}\n",
              "\n",
              "/* Estimator-specific */\n",
              "#sk-container-id-1 div.sk-estimator {\n",
              "  font-family: monospace;\n",
              "  border: 1px dotted var(--sklearn-color-border-box);\n",
              "  border-radius: 0.25em;\n",
              "  box-sizing: border-box;\n",
              "  margin-bottom: 0.5em;\n",
              "  /* unfitted */\n",
              "  background-color: var(--sklearn-color-unfitted-level-0);\n",
              "}\n",
              "\n",
              "#sk-container-id-1 div.sk-estimator.fitted {\n",
              "  /* fitted */\n",
              "  background-color: var(--sklearn-color-fitted-level-0);\n",
              "}\n",
              "\n",
              "/* on hover */\n",
              "#sk-container-id-1 div.sk-estimator:hover {\n",
              "  /* unfitted */\n",
              "  background-color: var(--sklearn-color-unfitted-level-2);\n",
              "}\n",
              "\n",
              "#sk-container-id-1 div.sk-estimator.fitted:hover {\n",
              "  /* fitted */\n",
              "  background-color: var(--sklearn-color-fitted-level-2);\n",
              "}\n",
              "\n",
              "/* Specification for estimator info (e.g. \"i\" and \"?\") */\n",
              "\n",
              "/* Common style for \"i\" and \"?\" */\n",
              "\n",
              ".sk-estimator-doc-link,\n",
              "a:link.sk-estimator-doc-link,\n",
              "a:visited.sk-estimator-doc-link {\n",
              "  float: right;\n",
              "  font-size: smaller;\n",
              "  line-height: 1em;\n",
              "  font-family: monospace;\n",
              "  background-color: var(--sklearn-color-background);\n",
              "  border-radius: 1em;\n",
              "  height: 1em;\n",
              "  width: 1em;\n",
              "  text-decoration: none !important;\n",
              "  margin-left: 0.5em;\n",
              "  text-align: center;\n",
              "  /* unfitted */\n",
              "  border: var(--sklearn-color-unfitted-level-1) 1pt solid;\n",
              "  color: var(--sklearn-color-unfitted-level-1);\n",
              "}\n",
              "\n",
              ".sk-estimator-doc-link.fitted,\n",
              "a:link.sk-estimator-doc-link.fitted,\n",
              "a:visited.sk-estimator-doc-link.fitted {\n",
              "  /* fitted */\n",
              "  border: var(--sklearn-color-fitted-level-1) 1pt solid;\n",
              "  color: var(--sklearn-color-fitted-level-1);\n",
              "}\n",
              "\n",
              "/* On hover */\n",
              "div.sk-estimator:hover .sk-estimator-doc-link:hover,\n",
              ".sk-estimator-doc-link:hover,\n",
              "div.sk-label-container:hover .sk-estimator-doc-link:hover,\n",
              ".sk-estimator-doc-link:hover {\n",
              "  /* unfitted */\n",
              "  background-color: var(--sklearn-color-unfitted-level-3);\n",
              "  color: var(--sklearn-color-background);\n",
              "  text-decoration: none;\n",
              "}\n",
              "\n",
              "div.sk-estimator.fitted:hover .sk-estimator-doc-link.fitted:hover,\n",
              ".sk-estimator-doc-link.fitted:hover,\n",
              "div.sk-label-container:hover .sk-estimator-doc-link.fitted:hover,\n",
              ".sk-estimator-doc-link.fitted:hover {\n",
              "  /* fitted */\n",
              "  background-color: var(--sklearn-color-fitted-level-3);\n",
              "  color: var(--sklearn-color-background);\n",
              "  text-decoration: none;\n",
              "}\n",
              "\n",
              "/* Span, style for the box shown on hovering the info icon */\n",
              ".sk-estimator-doc-link span {\n",
              "  display: none;\n",
              "  z-index: 9999;\n",
              "  position: relative;\n",
              "  font-weight: normal;\n",
              "  right: .2ex;\n",
              "  padding: .5ex;\n",
              "  margin: .5ex;\n",
              "  width: min-content;\n",
              "  min-width: 20ex;\n",
              "  max-width: 50ex;\n",
              "  color: var(--sklearn-color-text);\n",
              "  box-shadow: 2pt 2pt 4pt #999;\n",
              "  /* unfitted */\n",
              "  background: var(--sklearn-color-unfitted-level-0);\n",
              "  border: .5pt solid var(--sklearn-color-unfitted-level-3);\n",
              "}\n",
              "\n",
              ".sk-estimator-doc-link.fitted span {\n",
              "  /* fitted */\n",
              "  background: var(--sklearn-color-fitted-level-0);\n",
              "  border: var(--sklearn-color-fitted-level-3);\n",
              "}\n",
              "\n",
              ".sk-estimator-doc-link:hover span {\n",
              "  display: block;\n",
              "}\n",
              "\n",
              "/* \"?\"-specific style due to the `<a>` HTML tag */\n",
              "\n",
              "#sk-container-id-1 a.estimator_doc_link {\n",
              "  float: right;\n",
              "  font-size: 1rem;\n",
              "  line-height: 1em;\n",
              "  font-family: monospace;\n",
              "  background-color: var(--sklearn-color-background);\n",
              "  border-radius: 1rem;\n",
              "  height: 1rem;\n",
              "  width: 1rem;\n",
              "  text-decoration: none;\n",
              "  /* unfitted */\n",
              "  color: var(--sklearn-color-unfitted-level-1);\n",
              "  border: var(--sklearn-color-unfitted-level-1) 1pt solid;\n",
              "}\n",
              "\n",
              "#sk-container-id-1 a.estimator_doc_link.fitted {\n",
              "  /* fitted */\n",
              "  border: var(--sklearn-color-fitted-level-1) 1pt solid;\n",
              "  color: var(--sklearn-color-fitted-level-1);\n",
              "}\n",
              "\n",
              "/* On hover */\n",
              "#sk-container-id-1 a.estimator_doc_link:hover {\n",
              "  /* unfitted */\n",
              "  background-color: var(--sklearn-color-unfitted-level-3);\n",
              "  color: var(--sklearn-color-background);\n",
              "  text-decoration: none;\n",
              "}\n",
              "\n",
              "#sk-container-id-1 a.estimator_doc_link.fitted:hover {\n",
              "  /* fitted */\n",
              "  background-color: var(--sklearn-color-fitted-level-3);\n",
              "}\n",
              "</style><div id=\"sk-container-id-1\" class=\"sk-top-container\"><div class=\"sk-text-repr-fallback\"><pre>GaussianNB()</pre><b>In a Jupyter environment, please rerun this cell to show the HTML representation or trust the notebook. <br />On GitHub, the HTML representation is unable to render, please try loading this page with nbviewer.org.</b></div><div class=\"sk-container\" hidden><div class=\"sk-item\"><div class=\"sk-estimator fitted sk-toggleable\"><input class=\"sk-toggleable__control sk-hidden--visually\" id=\"sk-estimator-id-1\" type=\"checkbox\" checked><label for=\"sk-estimator-id-1\" class=\"sk-toggleable__label fitted sk-toggleable__label-arrow\"><div><div>GaussianNB</div></div><div><a class=\"sk-estimator-doc-link fitted\" rel=\"noreferrer\" target=\"_blank\" href=\"https://scikit-learn.org/1.6/modules/generated/sklearn.naive_bayes.GaussianNB.html\">?<span>Documentation for GaussianNB</span></a><span class=\"sk-estimator-doc-link fitted\">i<span>Fitted</span></span></div></label><div class=\"sk-toggleable__content fitted\"><pre>GaussianNB()</pre></div> </div></div></div></div>"
            ]
          },
          "metadata": {},
          "execution_count": 8
        }
      ],
      "source": [
        "model = GaussianNB()\n",
        "model.fit(X_train, y_train)"
      ]
    },
    {
      "cell_type": "markdown",
      "metadata": {
        "id": "MNib3H_A6GaP"
      },
      "source": [
        "5.1.1 Model Evaluation for Naive Bayes model"
      ]
    },
    {
      "cell_type": "code",
      "execution_count": null,
      "metadata": {
        "id": "GXa-6Te55vqN"
      },
      "outputs": [],
      "source": [
        "y_pred = model.predict(X_test)"
      ]
    },
    {
      "cell_type": "code",
      "execution_count": null,
      "metadata": {
        "id": "wXaDAkU36PnA",
        "colab": {
          "base_uri": "https://localhost:8080/"
        },
        "outputId": "e3c82af9-6bd3-4602-83f2-85ed904e3507"
      },
      "outputs": [
        {
          "output_type": "stream",
          "name": "stdout",
          "text": [
            "Accuracy: 82.19326818675353 %\n",
            "____________________________________________________________\n",
            "\n",
            "              precision    recall  f1-score   support\n",
            "\n",
            "           0       0.94      0.74      0.83       531\n",
            "           1       0.72      0.94      0.82       390\n",
            "\n",
            "    accuracy                           0.82       921\n",
            "   macro avg       0.83      0.84      0.82       921\n",
            "weighted avg       0.85      0.82      0.82       921\n",
            "\n",
            "[[391 140]\n",
            " [ 24 366]]\n"
          ]
        }
      ],
      "source": [
        "# Evaluation metrics\n",
        "accuracy = accuracy_score(y_test, y_pred) * 100\n",
        "print(f\"Accuracy: {accuracy}\", \"%\")\n",
        "print(\"_\" * 60)\n",
        "print()\n",
        "print(classification_report(y_test, y_pred)) # Shows precision, recall, F1-score\n",
        "print(confusion_matrix(y_test, y_pred))      # Helps visualize model performance"
      ]
    },
    {
      "cell_type": "markdown",
      "metadata": {
        "id": "bycBp31jto2b"
      },
      "source": [
        "Confusion Matrix:"
      ]
    },
    {
      "cell_type": "code",
      "execution_count": null,
      "metadata": {
        "id": "QTtmy8FOtpQL",
        "colab": {
          "base_uri": "https://localhost:8080/",
          "height": 489
        },
        "outputId": "a30692f7-714b-48b9-db00-11efa9f63084"
      },
      "outputs": [
        {
          "output_type": "display_data",
          "data": {
            "text/plain": [
              "<Figure size 500x500 with 0 Axes>"
            ]
          },
          "metadata": {}
        },
        {
          "output_type": "display_data",
          "data": {
            "text/plain": [
              "<Figure size 640x480 with 2 Axes>"
            ],
            "image/png": "[encoded data removed]"
          },
          "metadata": {}
        }
      ],
      "source": [
        "# 1. Confusion Matrix:\n",
        "plt.figure(figsize=(5, 5))\n",
        "ConfusionMatrixDisplay(confusion_matrix(y_test, y_pred), display_labels=model.classes_).plot()\n",
        "plt.title(\"Confusion Matrix\")\n",
        "plt.show()"
      ]
    },
    {
      "cell_type": "markdown",
      "metadata": {
        "id": "FzXK6kUq6yqd"
      },
      "source": [
        "5.1.2 Hyperparameter Tuning for Naive Bayes model\n"
      ]
    },
    {
      "cell_type": "code",
      "execution_count": null,
      "metadata": {
        "colab": {
          "base_uri": "https://localhost:8080/"
        },
        "id": "48fEG_lv6oW5",
        "outputId": "4c1f461d-47a4-42ae-89f8-69c1296f3822"
      },
      "outputs": [
        {
          "output_type": "stream",
          "name": "stdout",
          "text": [
            "Fitting 5 folds for each of 100 candidates, totalling 500 fits\n",
            "Tuned Model:\n",
            "Accuracy: 0.8219326818675353\n",
            "____________________________________________________________\n",
            "\n",
            "              precision    recall  f1-score   support\n",
            "\n",
            "           0       0.94      0.74      0.83       531\n",
            "           1       0.72      0.94      0.82       390\n",
            "\n",
            "    accuracy                           0.82       921\n",
            "   macro avg       0.83      0.84      0.82       921\n",
            "weighted avg       0.85      0.82      0.82       921\n",
            "\n",
            "[[391 140]\n",
            " [ 24 366]]\n"
          ]
        }
      ],
      "source": [
        "\n",
        "# 7. Hyperparameter Tuning (Optional but Recommended - Example with GridSearchCV)\n",
        "\n",
        "param_grid = {'var_smoothing': np.logspace(0,-9, num=100)} # Example for GaussianNB\n",
        "\n",
        "grid_search = GridSearchCV(GaussianNB(), param_grid, cv=5, verbose=1, n_jobs=-1)\n",
        "grid_search.fit(X_train, y_train)\n",
        "\n",
        "best_model = grid_search.best_estimator_\n",
        "y_pred_tuned = best_model.predict(X_test)\n",
        "\n",
        "print(\"Tuned Model:\")\n",
        "print(f\"Accuracy: {accuracy_score(y_test, y_pred_tuned)}\")\n",
        "print(\"_\" * 60)\n",
        "print()\n",
        "print(classification_report(y_test, y_pred_tuned))\n",
        "print(confusion_matrix(y_test, y_pred))      # Helps visualize model performance"
      ]
    },
    {
      "cell_type": "markdown",
      "metadata": {
        "id": "oW7XDppLxbUs"
      },
      "source": [
        "Confusion Matrix:"
      ]
    },
    {
      "cell_type": "code",
      "execution_count": null,
      "metadata": {
        "colab": {
          "base_uri": "https://localhost:8080/",
          "height": 489
        },
        "id": "4_3aNt8YxcQ6",
        "outputId": "3d712706-f9df-46a3-ae41-9f1bf3867eb3"
      },
      "outputs": [
        {
          "output_type": "display_data",
          "data": {
            "text/plain": [
              "<Figure size 500x500 with 0 Axes>"
            ]
          },
          "metadata": {}
        },
        {
          "output_type": "display_data",
          "data": {
            "text/plain": [
              "<Figure size 640x480 with 2 Axes>"
            ],
            "image/png": "[encoded data removed]"
          },
          "metadata": {}
        }
      ],
      "source": [
        "# 1. Confusion Matrix:\n",
        "plt.figure(figsize=(5, 5))\n",
        "ConfusionMatrixDisplay(confusion_matrix(y_test, y_pred_tuned), display_labels=model.classes_).plot()\n",
        "plt.title(\"Confusion Matrix\")\n",
        "plt.show()"
      ]
    },
    {
      "cell_type": "markdown",
      "metadata": {
        "id": "2z4a2DditsaL"
      },
      "source": [
        "ROC Curve and AUC:"
      ]
    },
    {
      "cell_type": "code",
      "execution_count": null,
      "metadata": {
        "colab": {
          "base_uri": "https://localhost:8080/",
          "height": 487
        },
        "id": "aYSejv0GtsqP",
        "outputId": "a5a118bd-1424-4205-abcb-8d4f97f35b30"
      },
      "outputs": [
        {
          "output_type": "display_data",
          "data": {
            "text/plain": [
              "<Figure size 500x500 with 1 Axes>"
            ],
            "image/png": "[encoded data removed]"
          },
          "metadata": {}
        }
      ],
      "source": [
        "y_pred_proba = model.predict_proba(X_test)[:, 1]  # Prob. of positive class (class 1)\n",
        "\n",
        "plt.figure(figsize=(5, 5))\n",
        "fpr, tpr, _ = roc_curve(y_test, y_pred_proba)\n",
        "roc_auc = auc(fpr, tpr)\n",
        "plt.plot(fpr, tpr, label=f'AUC = {roc_auc:.2f}')\n",
        "plt.plot([0, 1], [0, 1], 'k--')  # Add a diagonal line for random classifier\n",
        "plt.xlabel('False Positive Rate')\n",
        "plt.ylabel('True Positive Rate')\n",
        "plt.title('ROC Curve')\n",
        "plt.legend(loc='lower right')\n",
        "plt.show()"
      ]
    },
    {
      "cell_type": "markdown",
      "metadata": {
        "id": "P2-NfhYjxZts"
      },
      "source": [
        "Precision-Recall Curve:"
      ]
    },
    {
      "cell_type": "code",
      "execution_count": null,
      "metadata": {
        "colab": {
          "base_uri": "https://localhost:8080/",
          "height": 487
        },
        "id": "ujK-ToVpxaf_",
        "outputId": "8c2beaa9-bfb2-4679-e2e3-5d030957edee"
      },
      "outputs": [
        {
          "output_type": "display_data",
          "data": {
            "text/plain": [
              "<Figure size 500x500 with 1 Axes>"
            ],
            "image/png": "[encoded data removed]"
          },
          "metadata": {}
        }
      ],
      "source": [
        "plt.figure(figsize=(5, 5))\n",
        "precision, recall, _ = precision_recall_curve(y_test, y_pred_proba)\n",
        "pr_auc = auc(recall, precision)  # Area under the curve\n",
        "plt.plot(recall, precision, label=f'AUC = {pr_auc:.2f}')\n",
        "plt.xlabel('Recall')\n",
        "plt.ylabel('Precision')\n",
        "plt.title('Precision-Recall Curve')\n",
        "plt.legend(loc='lower left')\n",
        "plt.show()"
      ]
    },
    {
      "cell_type": "markdown",
      "metadata": {
        "id": "rlJ-1geF66-2"
      },
      "source": [
        "5.1.3 Cross-Validation for Naive Bayes model\n"
      ]
    },
    {
      "cell_type": "code",
      "execution_count": null,
      "metadata": {
        "colab": {
          "base_uri": "https://localhost:8080/"
        },
        "id": "TguPQ0-L6twe",
        "outputId": "84ebcc6f-c36a-42d3-f271-3dffc4974c28"
      },
      "outputs": [
        {
          "output_type": "stream",
          "name": "stdout",
          "text": [
            "Cross-validation scores: [0.85124864 0.86630435 0.85434783 0.84347826 0.69565217]\n",
            "Mean cross-validation accuracy: 0.8222062502950479\n"
          ]
        }
      ],
      "source": [
        "# 8. Cross-Validation (Important for Robust Evaluation)\n",
        "cv_scores = cross_val_score(model, X_scaled, y, cv=5, scoring='accuracy')  # 5-fold cross-validation\n",
        "print(f\"Cross-validation scores: {cv_scores}\")\n",
        "print(f\"Mean cross-validation accuracy: {cv_scores.mean()}\")\n"
      ]
    },
    {
      "cell_type": "markdown",
      "metadata": {
        "id": "j-xWsw-E7dL5"
      },
      "source": [
        "___________________________________________________________________________________________________"
      ]
    },
    {
      "cell_type": "markdown",
      "metadata": {
        "id": "xfA-BXc27bEM"
      },
      "source": [
        "5.2. Logistic Regression"
      ]
    },
    {
      "cell_type": "code",
      "execution_count": null,
      "metadata": {
        "colab": {
          "base_uri": "https://localhost:8080/",
          "height": 80
        },
        "id": "mNe6Z2TjlbOt",
        "outputId": "d0c45ab4-ceb5-4c98-9c77-a4c199163740"
      },
      "outputs": [
        {
          "output_type": "execute_result",
          "data": {
            "text/plain": [
              "LogisticRegression(max_iter=1000, random_state=42)"
            ],
            "text/html": [
              "<style>#sk-container-id-2 {\n",
              "  /* Definition of color scheme common for light and dark mode */\n",
              "  --sklearn-color-text: #000;\n",
              "  --sklearn-color-text-muted: #666;\n",
              "  --sklearn-color-line: gray;\n",
              "  /* Definition of color scheme for unfitted estimators */\n",
              "  --sklearn-color-unfitted-level-0: #fff5e6;\n",
              "  --sklearn-color-unfitted-level-1: #f6e4d2;\n",
              "  --sklearn-color-unfitted-level-2: #ffe0b3;\n",
              "  --sklearn-color-unfitted-level-3: chocolate;\n",
              "  /* Definition of color scheme for fitted estimators */\n",
              "  --sklearn-color-fitted-level-0: #f0f8ff;\n",
              "  --sklearn-color-fitted-level-1: #d4ebff;\n",
              "  --sklearn-color-fitted-level-2: #b3dbfd;\n",
              "  --sklearn-color-fitted-level-3: cornflowerblue;\n",
              "\n",
              "  /* Specific color for light theme */\n",
              "  --sklearn-color-text-on-default-background: var(--sg-text-color, var(--theme-code-foreground, var(--jp-content-font-color1, black)));\n",
              "  --sklearn-color-background: var(--sg-background-color, var(--theme-background, var(--jp-layout-color0, white)));\n",
              "  --sklearn-color-border-box: var(--sg-text-color, var(--theme-code-foreground, var(--jp-content-font-color1, black)));\n",
              "  --sklearn-color-icon: #696969;\n",
              "\n",
              "  @media (prefers-color-scheme: dark) {\n",
              "    /* Redefinition of color scheme for dark theme */\n",
              "    --sklearn-color-text-on-default-background: var(--sg-text-color, var(--theme-code-foreground, var(--jp-content-font-color1, white)));\n",
              "    --sklearn-color-background: var(--sg-background-color, var(--theme-background, var(--jp-layout-color0, #111)));\n",
              "    --sklearn-color-border-box: var(--sg-text-color, var(--theme-code-foreground, var(--jp-content-font-color1, white)));\n",
              "    --sklearn-color-icon: #878787;\n",
              "  }\n",
              "}\n",
              "\n",
              "#sk-container-id-2 {\n",
              "  color: var(--sklearn-color-text);\n",
              "}\n",
              "\n",
              "#sk-container-id-2 pre {\n",
              "  padding: 0;\n",
              "}\n",
              "\n",
              "#sk-container-id-2 input.sk-hidden--visually {\n",
              "  border: 0;\n",
              "  clip: rect(1px 1px 1px 1px);\n",
              "  clip: rect(1px, 1px, 1px, 1px);\n",
              "  height: 1px;\n",
              "  margin: -1px;\n",
              "  overflow: hidden;\n",
              "  padding: 0;\n",
              "  position: absolute;\n",
              "  width: 1px;\n",
              "}\n",
              "\n",
              "#sk-container-id-2 div.sk-dashed-wrapped {\n",
              "  border: 1px dashed var(--sklearn-color-line);\n",
              "  margin: 0 0.4em 0.5em 0.4em;\n",
              "  box-sizing: border-box;\n",
              "  padding-bottom: 0.4em;\n",
              "  background-color: var(--sklearn-color-background);\n",
              "}\n",
              "\n",
              "#sk-container-id-2 div.sk-container {\n",
              "  /* jupyter's `normalize.less` sets `[hidden] { display: none; }`\n",
              "     but bootstrap.min.css set `[hidden] { display: none !important; }`\n",
              "     so we also need the `!important` here to be able to override the\n",
              "     default hidden behavior on the sphinx rendered scikit-learn.org.\n",
              "     See: https://github.com/scikit-learn/scikit-learn/issues/21755 */\n",
              "  display: inline-block !important;\n",
              "  position: relative;\n",
              "}\n",
              "\n",
              "#sk-container-id-2 div.sk-text-repr-fallback {\n",
              "  display: none;\n",
              "}\n",
              "\n",
              "div.sk-parallel-item,\n",
              "div.sk-serial,\n",
              "div.sk-item {\n",
              "  /* draw centered vertical line to link estimators */\n",
              "  background-image: linear-gradient(var(--sklearn-color-text-on-default-background), var(--sklearn-color-text-on-default-background));\n",
              "  background-size: 2px 100%;\n",
              "  background-repeat: no-repeat;\n",
              "  background-position: center center;\n",
              "}\n",
              "\n",
              "/* Parallel-specific style estimator block */\n",
              "\n",
              "#sk-container-id-2 div.sk-parallel-item::after {\n",
              "  content: \"\";\n",
              "  width: 100%;\n",
              "  border-bottom: 2px solid var(--sklearn-color-text-on-default-background);\n",
              "  flex-grow: 1;\n",
              "}\n",
              "\n",
              "#sk-container-id-2 div.sk-parallel {\n",
              "  display: flex;\n",
              "  align-items: stretch;\n",
              "  justify-content: center;\n",
              "  background-color: var(--sklearn-color-background);\n",
              "  position: relative;\n",
              "}\n",
              "\n",
              "#sk-container-id-2 div.sk-parallel-item {\n",
              "  display: flex;\n",
              "  flex-direction: column;\n",
              "}\n",
              "\n",
              "#sk-container-id-2 div.sk-parallel-item:first-child::after {\n",
              "  align-self: flex-end;\n",
              "  width: 50%;\n",
              "}\n",
              "\n",
              "#sk-container-id-2 div.sk-parallel-item:last-child::after {\n",
              "  align-self: flex-start;\n",
              "  width: 50%;\n",
              "}\n",
              "\n",
              "#sk-container-id-2 div.sk-parallel-item:only-child::after {\n",
              "  width: 0;\n",
              "}\n",
              "\n",
              "/* Serial-specific style estimator block */\n",
              "\n",
              "#sk-container-id-2 div.sk-serial {\n",
              "  display: flex;\n",
              "  flex-direction: column;\n",
              "  align-items: center;\n",
              "  background-color: var(--sklearn-color-background);\n",
              "  padding-right: 1em;\n",
              "  padding-left: 1em;\n",
              "}\n",
              "\n",
              "\n",
              "/* Toggleable style: style used for estimator/Pipeline/ColumnTransformer box that is\n",
              "clickable and can be expanded/collapsed.\n",
              "- Pipeline and ColumnTransformer use this feature and define the default style\n",
              "- Estimators will overwrite some part of the style using the `sk-estimator` class\n",
              "*/\n",
              "\n",
              "/* Pipeline and ColumnTransformer style (default) */\n",
              "\n",
              "#sk-container-id-2 div.sk-toggleable {\n",
              "  /* Default theme specific background. It is overwritten whether we have a\n",
              "  specific estimator or a Pipeline/ColumnTransformer */\n",
              "  background-color: var(--sklearn-color-background);\n",
              "}\n",
              "\n",
              "/* Toggleable label */\n",
              "#sk-container-id-2 label.sk-toggleable__label {\n",
              "  cursor: pointer;\n",
              "  display: flex;\n",
              "  width: 100%;\n",
              "  margin-bottom: 0;\n",
              "  padding: 0.5em;\n",
              "  box-sizing: border-box;\n",
              "  text-align: center;\n",
              "  align-items: start;\n",
              "  justify-content: space-between;\n",
              "  gap: 0.5em;\n",
              "}\n",
              "\n",
              "#sk-container-id-2 label.sk-toggleable__label .caption {\n",
              "  font-size: 0.6rem;\n",
              "  font-weight: lighter;\n",
              "  color: var(--sklearn-color-text-muted);\n",
              "}\n",
              "\n",
              "#sk-container-id-2 label.sk-toggleable__label-arrow:before {\n",
              "  /* Arrow on the left of the label */\n",
              "  content: \"▸\";\n",
              "  float: left;\n",
              "  margin-right: 0.25em;\n",
              "  color: var(--sklearn-color-icon);\n",
              "}\n",
              "\n",
              "#sk-container-id-2 label.sk-toggleable__label-arrow:hover:before {\n",
              "  color: var(--sklearn-color-text);\n",
              "}\n",
              "\n",
              "/* Toggleable content - dropdown */\n",
              "\n",
              "#sk-container-id-2 div.sk-toggleable__content {\n",
              "  max-height: 0;\n",
              "  max-width: 0;\n",
              "  overflow: hidden;\n",
              "  text-align: left;\n",
              "  /* unfitted */\n",
              "  background-color: var(--sklearn-color-unfitted-level-0);\n",
              "}\n",
              "\n",
              "#sk-container-id-2 div.sk-toggleable__content.fitted {\n",
              "  /* fitted */\n",
              "  background-color: var(--sklearn-color-fitted-level-0);\n",
              "}\n",
              "\n",
              "#sk-container-id-2 div.sk-toggleable__content pre {\n",
              "  margin: 0.2em;\n",
              "  border-radius: 0.25em;\n",
              "  color: var(--sklearn-color-text);\n",
              "  /* unfitted */\n",
              "  background-color: var(--sklearn-color-unfitted-level-0);\n",
              "}\n",
              "\n",
              "#sk-container-id-2 div.sk-toggleable__content.fitted pre {\n",
              "  /* unfitted */\n",
              "  background-color: var(--sklearn-color-fitted-level-0);\n",
              "}\n",
              "\n",
              "#sk-container-id-2 input.sk-toggleable__control:checked~div.sk-toggleable__content {\n",
              "  /* Expand drop-down */\n",
              "  max-height: 200px;\n",
              "  max-width: 100%;\n",
              "  overflow: auto;\n",
              "}\n",
              "\n",
              "#sk-container-id-2 input.sk-toggleable__control:checked~label.sk-toggleable__label-arrow:before {\n",
              "  content: \"▾\";\n",
              "}\n",
              "\n",
              "/* Pipeline/ColumnTransformer-specific style */\n",
              "\n",
              "#sk-container-id-2 div.sk-label input.sk-toggleable__control:checked~label.sk-toggleable__label {\n",
              "  color: var(--sklearn-color-text);\n",
              "  background-color: var(--sklearn-color-unfitted-level-2);\n",
              "}\n",
              "\n",
              "#sk-container-id-2 div.sk-label.fitted input.sk-toggleable__control:checked~label.sk-toggleable__label {\n",
              "  background-color: var(--sklearn-color-fitted-level-2);\n",
              "}\n",
              "\n",
              "/* Estimator-specific style */\n",
              "\n",
              "/* Colorize estimator box */\n",
              "#sk-container-id-2 div.sk-estimator input.sk-toggleable__control:checked~label.sk-toggleable__label {\n",
              "  /* unfitted */\n",
              "  background-color: var(--sklearn-color-unfitted-level-2);\n",
              "}\n",
              "\n",
              "#sk-container-id-2 div.sk-estimator.fitted input.sk-toggleable__control:checked~label.sk-toggleable__label {\n",
              "  /* fitted */\n",
              "  background-color: var(--sklearn-color-fitted-level-2);\n",
              "}\n",
              "\n",
              "#sk-container-id-2 div.sk-label label.sk-toggleable__label,\n",
              "#sk-container-id-2 div.sk-label label {\n",
              "  /* The background is the default theme color */\n",
              "  color: var(--sklearn-color-text-on-default-background);\n",
              "}\n",
              "\n",
              "/* On hover, darken the color of the background */\n",
              "#sk-container-id-2 div.sk-label:hover label.sk-toggleable__label {\n",
              "  color: var(--sklearn-color-text);\n",
              "  background-color: var(--sklearn-color-unfitted-level-2);\n",
              "}\n",
              "\n",
              "/* Label box, darken color on hover, fitted */\n",
              "#sk-container-id-2 div.sk-label.fitted:hover label.sk-toggleable__label.fitted {\n",
              "  color: var(--sklearn-color-text);\n",
              "  background-color: var(--sklearn-color-fitted-level-2);\n",
              "}\n",
              "\n",
              "/* Estimator label */\n",
              "\n",
              "#sk-container-id-2 div.sk-label label {\n",
              "  font-family: monospace;\n",
              "  font-weight: bold;\n",
              "  display: inline-block;\n",
              "  line-height: 1.2em;\n",
              "}\n",
              "\n",
              "#sk-container-id-2 div.sk-label-container {\n",
              "  text-align: center;\n",
              "}\n",
              "\n",
              "/* Estimator-specific */\n",
              "#sk-container-id-2 div.sk-estimator {\n",
              "  font-family: monospace;\n",
              "  border: 1px dotted var(--sklearn-color-border-box);\n",
              "  border-radius: 0.25em;\n",
              "  box-sizing: border-box;\n",
              "  margin-bottom: 0.5em;\n",
              "  /* unfitted */\n",
              "  background-color: var(--sklearn-color-unfitted-level-0);\n",
              "}\n",
              "\n",
              "#sk-container-id-2 div.sk-estimator.fitted {\n",
              "  /* fitted */\n",
              "  background-color: var(--sklearn-color-fitted-level-0);\n",
              "}\n",
              "\n",
              "/* on hover */\n",
              "#sk-container-id-2 div.sk-estimator:hover {\n",
              "  /* unfitted */\n",
              "  background-color: var(--sklearn-color-unfitted-level-2);\n",
              "}\n",
              "\n",
              "#sk-container-id-2 div.sk-estimator.fitted:hover {\n",
              "  /* fitted */\n",
              "  background-color: var(--sklearn-color-fitted-level-2);\n",
              "}\n",
              "\n",
              "/* Specification for estimator info (e.g. \"i\" and \"?\") */\n",
              "\n",
              "/* Common style for \"i\" and \"?\" */\n",
              "\n",
              ".sk-estimator-doc-link,\n",
              "a:link.sk-estimator-doc-link,\n",
              "a:visited.sk-estimator-doc-link {\n",
              "  float: right;\n",
              "  font-size: smaller;\n",
              "  line-height: 1em;\n",
              "  font-family: monospace;\n",
              "  background-color: var(--sklearn-color-background);\n",
              "  border-radius: 1em;\n",
              "  height: 1em;\n",
              "  width: 1em;\n",
              "  text-decoration: none !important;\n",
              "  margin-left: 0.5em;\n",
              "  text-align: center;\n",
              "  /* unfitted */\n",
              "  border: var(--sklearn-color-unfitted-level-1) 1pt solid;\n",
              "  color: var(--sklearn-color-unfitted-level-1);\n",
              "}\n",
              "\n",
              ".sk-estimator-doc-link.fitted,\n",
              "a:link.sk-estimator-doc-link.fitted,\n",
              "a:visited.sk-estimator-doc-link.fitted {\n",
              "  /* fitted */\n",
              "  border: var(--sklearn-color-fitted-level-1) 1pt solid;\n",
              "  color: var(--sklearn-color-fitted-level-1);\n",
              "}\n",
              "\n",
              "/* On hover */\n",
              "div.sk-estimator:hover .sk-estimator-doc-link:hover,\n",
              ".sk-estimator-doc-link:hover,\n",
              "div.sk-label-container:hover .sk-estimator-doc-link:hover,\n",
              ".sk-estimator-doc-link:hover {\n",
              "  /* unfitted */\n",
              "  background-color: var(--sklearn-color-unfitted-level-3);\n",
              "  color: var(--sklearn-color-background);\n",
              "  text-decoration: none;\n",
              "}\n",
              "\n",
              "div.sk-estimator.fitted:hover .sk-estimator-doc-link.fitted:hover,\n",
              ".sk-estimator-doc-link.fitted:hover,\n",
              "div.sk-label-container:hover .sk-estimator-doc-link.fitted:hover,\n",
              ".sk-estimator-doc-link.fitted:hover {\n",
              "  /* fitted */\n",
              "  background-color: var(--sklearn-color-fitted-level-3);\n",
              "  color: var(--sklearn-color-background);\n",
              "  text-decoration: none;\n",
              "}\n",
              "\n",
              "/* Span, style for the box shown on hovering the info icon */\n",
              ".sk-estimator-doc-link span {\n",
              "  display: none;\n",
              "  z-index: 9999;\n",
              "  position: relative;\n",
              "  font-weight: normal;\n",
              "  right: .2ex;\n",
              "  padding: .5ex;\n",
              "  margin: .5ex;\n",
              "  width: min-content;\n",
              "  min-width: 20ex;\n",
              "  max-width: 50ex;\n",
              "  color: var(--sklearn-color-text);\n",
              "  box-shadow: 2pt 2pt 4pt #999;\n",
              "  /* unfitted */\n",
              "  background: var(--sklearn-color-unfitted-level-0);\n",
              "  border: .5pt solid var(--sklearn-color-unfitted-level-3);\n",
              "}\n",
              "\n",
              ".sk-estimator-doc-link.fitted span {\n",
              "  /* fitted */\n",
              "  background: var(--sklearn-color-fitted-level-0);\n",
              "  border: var(--sklearn-color-fitted-level-3);\n",
              "}\n",
              "\n",
              ".sk-estimator-doc-link:hover span {\n",
              "  display: block;\n",
              "}\n",
              "\n",
              "/* \"?\"-specific style due to the `<a>` HTML tag */\n",
              "\n",
              "#sk-container-id-2 a.estimator_doc_link {\n",
              "  float: right;\n",
              "  font-size: 1rem;\n",
              "  line-height: 1em;\n",
              "  font-family: monospace;\n",
              "  background-color: var(--sklearn-color-background);\n",
              "  border-radius: 1rem;\n",
              "  height: 1rem;\n",
              "  width: 1rem;\n",
              "  text-decoration: none;\n",
              "  /* unfitted */\n",
              "  color: var(--sklearn-color-unfitted-level-1);\n",
              "  border: var(--sklearn-color-unfitted-level-1) 1pt solid;\n",
              "}\n",
              "\n",
              "#sk-container-id-2 a.estimator_doc_link.fitted {\n",
              "  /* fitted */\n",
              "  border: var(--sklearn-color-fitted-level-1) 1pt solid;\n",
              "  color: var(--sklearn-color-fitted-level-1);\n",
              "}\n",
              "\n",
              "/* On hover */\n",
              "#sk-container-id-2 a.estimator_doc_link:hover {\n",
              "  /* unfitted */\n",
              "  background-color: var(--sklearn-color-unfitted-level-3);\n",
              "  color: var(--sklearn-color-background);\n",
              "  text-decoration: none;\n",
              "}\n",
              "\n",
              "#sk-container-id-2 a.estimator_doc_link.fitted:hover {\n",
              "  /* fitted */\n",
              "  background-color: var(--sklearn-color-fitted-level-3);\n",
              "}\n",
              "</style><div id=\"sk-container-id-2\" class=\"sk-top-container\"><div class=\"sk-text-repr-fallback\"><pre>LogisticRegression(max_iter=1000, random_state=42)</pre><b>In a Jupyter environment, please rerun this cell to show the HTML representation or trust the notebook. <br />On GitHub, the HTML representation is unable to render, please try loading this page with nbviewer.org.</b></div><div class=\"sk-container\" hidden><div class=\"sk-item\"><div class=\"sk-estimator fitted sk-toggleable\"><input class=\"sk-toggleable__control sk-hidden--visually\" id=\"sk-estimator-id-2\" type=\"checkbox\" checked><label for=\"sk-estimator-id-2\" class=\"sk-toggleable__label fitted sk-toggleable__label-arrow\"><div><div>LogisticRegression</div></div><div><a class=\"sk-estimator-doc-link fitted\" rel=\"noreferrer\" target=\"_blank\" href=\"https://scikit-learn.org/1.6/modules/generated/sklearn.linear_model.LogisticRegression.html\">?<span>Documentation for LogisticRegression</span></a><span class=\"sk-estimator-doc-link fitted\">i<span>Fitted</span></span></div></label><div class=\"sk-toggleable__content fitted\"><pre>LogisticRegression(max_iter=1000, random_state=42)</pre></div> </div></div></div></div>"
            ]
          },
          "metadata": {},
          "execution_count": 17
        }
      ],
      "source": [
        "lr_model = LogisticRegression(max_iter=1000, random_state=42)  # Increase max_iter if needed\n",
        "lr_model.fit(X_train, y_train)"
      ]
    },
    {
      "cell_type": "markdown",
      "metadata": {
        "id": "Un9Jw6FumE03"
      },
      "source": [
        "5.2.1 Model Evaluation for Logistic Regression"
      ]
    },
    {
      "cell_type": "code",
      "execution_count": null,
      "metadata": {
        "id": "8TjqY8vd4ZrR"
      },
      "outputs": [],
      "source": [
        "lr_y_pred = lr_model.predict(X_test)"
      ]
    },
    {
      "cell_type": "code",
      "execution_count": null,
      "metadata": {
        "colab": {
          "base_uri": "https://localhost:8080/"
        },
        "id": "MdwLEUs3lmrh",
        "outputId": "8090fb63-cbb0-4121-ae9e-811219c5487a"
      },
      "outputs": [
        {
          "output_type": "stream",
          "name": "stdout",
          "text": [
            "Accuracy: 91.96525515743757 %\n",
            "____________________________________________________________\n",
            "\n",
            "              precision    recall  f1-score   support\n",
            "\n",
            "           0       0.91      0.95      0.93       531\n",
            "           1       0.93      0.87      0.90       390\n",
            "\n",
            "    accuracy                           0.92       921\n",
            "   macro avg       0.92      0.91      0.92       921\n",
            "weighted avg       0.92      0.92      0.92       921\n",
            "\n",
            "[[506  25]\n",
            " [ 49 341]]\n"
          ]
        }
      ],
      "source": [
        "\n",
        "# Evaluation metrics\n",
        "accuracy = accuracy_score(y_test, lr_y_pred) * 100\n",
        "print(f\"Accuracy: {accuracy}\", \"%\")\n",
        "print(\"_\" * 60)\n",
        "print()\n",
        "print(classification_report(y_test, lr_y_pred)) # Shows precision, recall, F1-score\n",
        "print(confusion_matrix(y_test, lr_y_pred))"
      ]
    },
    {
      "cell_type": "markdown",
      "metadata": {
        "id": "3BfWp4bbxqAF"
      },
      "source": [
        "Confusion Matrix:"
      ]
    },
    {
      "cell_type": "code",
      "execution_count": null,
      "metadata": {
        "colab": {
          "base_uri": "https://localhost:8080/",
          "height": 489
        },
        "id": "wAMjpW-ZxqKx",
        "outputId": "a32aa978-2ec9-45de-b112-e73e903821f4"
      },
      "outputs": [
        {
          "output_type": "display_data",
          "data": {
            "text/plain": [
              "<Figure size 500x500 with 0 Axes>"
            ]
          },
          "metadata": {}
        },
        {
          "output_type": "display_data",
          "data": {
            "text/plain": [
              "<Figure size 640x480 with 2 Axes>"
            ],
            "image/png": "[encoded data removed]"
          },
          "metadata": {}
        }
      ],
      "source": [
        "# 1. Confusion Matrix:\n",
        "plt.figure(figsize=(5, 5))\n",
        "ConfusionMatrixDisplay(confusion_matrix(y_test, lr_y_pred), display_labels=lr_model.classes_).plot()\n",
        "plt.title(\"Confusion Matrix\")\n",
        "plt.show()"
      ]
    },
    {
      "cell_type": "markdown",
      "metadata": {
        "id": "n3HN27adma_q"
      },
      "source": [
        "5.2.2 Hyperparameter Tuning for Logistic Regression"
      ]
    },
    {
      "cell_type": "code",
      "execution_count": null,
      "metadata": {
        "id": "wYKb7gRbpaKq",
        "colab": {
          "base_uri": "https://localhost:8080/"
        },
        "outputId": "3d9e3d6c-dc19-4ca6-f934-96d10bdafe4e"
      },
      "outputs": [
        {
          "output_type": "stream",
          "name": "stdout",
          "text": [
            "Fitting 5 folds for each of 40 candidates, totalling 200 fits\n",
            "\n",
            "Logistic Regression (Tuned):\n",
            "Tuned Accuracy: 91.86%\n",
            "____________________________________________________________\n",
            "\n",
            "              precision    recall  f1-score   support\n",
            "\n",
            "           0       0.92      0.94      0.93       531\n",
            "           1       0.92      0.88      0.90       390\n",
            "\n",
            "    accuracy                           0.92       921\n",
            "   macro avg       0.92      0.91      0.92       921\n",
            "weighted avg       0.92      0.92      0.92       921\n",
            "\n",
            "Best Hyperparameters: {'C': 21.54434690031882, 'penalty': 'l2', 'solver': 'liblinear'}\n"
          ]
        }
      ],
      "source": [
        "# 5.2.2 Hyperparameter Tuning for Logistic Regression\n",
        "param_grid_lr = {\n",
        "    'C': np.logspace(-4, 4, 10),  # Regularization parameter\n",
        "    'penalty': ['l1', 'l2'],       # Regularization type\n",
        "    'solver': ['liblinear', 'saga'] # Solvers that support both penalties\n",
        "}\n",
        "\n",
        "grid_search_lr = GridSearchCV(LogisticRegression(max_iter=1000, random_state=42),\n",
        "                              param_grid_lr, cv=5, verbose=1, n_jobs=-1, scoring='f1') # Use F1-score\n",
        "grid_search_lr.fit(X_train, y_train)\n",
        "\n",
        "best_lr_model = grid_search_lr.best_estimator_\n",
        "lr_y_pred_tuned = best_lr_model.predict(X_test)\n",
        "\n",
        "print(\"\\nLogistic Regression (Tuned):\")\n",
        "accuracy_tuned = accuracy_score(y_test, lr_y_pred_tuned) * 100\n",
        "print(f\"Tuned Accuracy: {accuracy_tuned:.2f}%\")\n",
        "\n",
        "print(\"_\" * 60)\n",
        "print()\n",
        "print(classification_report(y_test, lr_y_pred_tuned))\n",
        "print(\"Best Hyperparameters:\", grid_search_lr.best_params_)\n"
      ]
    },
    {
      "cell_type": "markdown",
      "metadata": {
        "id": "B-dLhhr1xsRa"
      },
      "source": [
        "Confusion Matrix:"
      ]
    },
    {
      "cell_type": "code",
      "execution_count": null,
      "metadata": {
        "id": "z8BbPZQzxsh0",
        "colab": {
          "base_uri": "https://localhost:8080/",
          "height": 489
        },
        "outputId": "b0d8119c-f22d-43b3-eef5-fbb7db5b7a33"
      },
      "outputs": [
        {
          "output_type": "display_data",
          "data": {
            "text/plain": [
              "<Figure size 500x500 with 0 Axes>"
            ]
          },
          "metadata": {}
        },
        {
          "output_type": "display_data",
          "data": {
            "text/plain": [
              "<Figure size 640x480 with 2 Axes>"
            ],
            "image/png": "[encoded data removed]"
          },
          "metadata": {}
        }
      ],
      "source": [
        "# 1. Confusion Matrix:\n",
        "plt.figure(figsize=(5, 5))\n",
        "ConfusionMatrixDisplay(confusion_matrix(y_test, lr_y_pred_tuned), display_labels=lr_model.classes_).plot()\n",
        "plt.title(\"Confusion Matrix\")\n",
        "plt.show()"
      ]
    },
    {
      "cell_type": "markdown",
      "metadata": {
        "id": "RlPO-8cuxsqJ"
      },
      "source": [
        "ROC Curve and AUC:"
      ]
    },
    {
      "cell_type": "code",
      "execution_count": null,
      "metadata": {
        "id": "xi7z4wwrxsyv",
        "colab": {
          "base_uri": "https://localhost:8080/",
          "height": 487
        },
        "outputId": "dc7ee636-7943-47f2-bbbf-e986d169f972"
      },
      "outputs": [
        {
          "output_type": "display_data",
          "data": {
            "text/plain": [
              "<Figure size 500x500 with 1 Axes>"
            ],
            "image/png": "[encoded data removed]"
          },
          "metadata": {}
        }
      ],
      "source": [
        "lr_y_pred_proba = lr_model.predict_proba(X_test)[:, 1]  # Prob. of positive class (class 1)\n",
        "\n",
        "plt.figure(figsize=(5, 5))\n",
        "fpr, tpr, _ = roc_curve(y_test, lr_y_pred_proba)\n",
        "roc_auc = auc(fpr, tpr)\n",
        "plt.plot(fpr, tpr, label=f'AUC = {roc_auc:.2f}')\n",
        "plt.plot([0, 1], [0, 1], 'k--')  # Add a diagonal line for random classifier\n",
        "plt.xlabel('False Positive Rate')\n",
        "plt.ylabel('True Positive Rate')\n",
        "plt.title('ROC Curve')\n",
        "plt.legend(loc='lower right')\n",
        "plt.show()"
      ]
    },
    {
      "cell_type": "markdown",
      "metadata": {
        "id": "4gO0pyRkxs7n"
      },
      "source": [
        "Precision-Recall Curve:"
      ]
    },
    {
      "cell_type": "code",
      "execution_count": null,
      "metadata": {
        "id": "_NYFytc5xtD6",
        "colab": {
          "base_uri": "https://localhost:8080/",
          "height": 487
        },
        "outputId": "e584bb21-a286-43b2-ab34-4aa49d6f76aa"
      },
      "outputs": [
        {
          "output_type": "display_data",
          "data": {
            "text/plain": [
              "<Figure size 500x500 with 1 Axes>"
            ],
            "image/png": "[encoded data removed]"
          },
          "metadata": {}
        }
      ],
      "source": [
        "plt.figure(figsize=(5, 5))\n",
        "precision, recall, _ = precision_recall_curve(y_test, lr_y_pred_proba)\n",
        "pr_auc = auc(recall, precision)  # Area under the curve\n",
        "plt.plot(recall, precision, label=f'AUC = {pr_auc:.2f}')\n",
        "plt.xlabel('Recall')\n",
        "plt.ylabel('Precision')\n",
        "plt.title('Precision-Recall Curve')\n",
        "plt.legend(loc='lower left')\n",
        "plt.show()"
      ]
    },
    {
      "cell_type": "markdown",
      "metadata": {
        "id": "9a-4uf8BmdTG"
      },
      "source": [
        "5.2.3 Cross-Validation for Logistic Regression"
      ]
    },
    {
      "cell_type": "code",
      "execution_count": null,
      "metadata": {
        "id": "2MhRPpkkpats",
        "colab": {
          "base_uri": "https://localhost:8080/"
        },
        "outputId": "c6e70e49-3d2e-43af-bd46-b82babe62bfd"
      },
      "outputs": [
        {
          "output_type": "stream",
          "name": "stdout",
          "text": [
            "\n",
            "Logistic Regression Cross-validation scores (Tuned): [0.89428571 0.90807799 0.91428571 0.93049645 0.79314888]\n",
            "Mean cross-validation F1 (Tuned): 0.8881\n"
          ]
        }
      ],
      "source": [
        "cv_scores_lr = cross_val_score(best_lr_model, X_scaled, y, cv=5, scoring='f1') # Use F1-score\n",
        "print(f\"\\nLogistic Regression Cross-validation scores (Tuned): {cv_scores_lr}\")\n",
        "print(f\"Mean cross-validation F1 (Tuned): {cv_scores_lr.mean():.4f}\")  # Format mean F1"
      ]
    },
    {
      "cell_type": "markdown",
      "metadata": {
        "id": "cXUmP1YJpMx8"
      },
      "source": [
        "___________________________________________________________________________________________________\n"
      ]
    },
    {
      "cell_type": "markdown",
      "metadata": {
        "id": "4XR7OM8onbi9"
      },
      "source": [
        "5.3. Random Forest"
      ]
    },
    {
      "cell_type": "code",
      "execution_count": null,
      "metadata": {
        "id": "sOdkGIHBn2GN",
        "colab": {
          "base_uri": "https://localhost:8080/",
          "height": 80
        },
        "outputId": "1211b0c8-6e8f-4b29-86c0-1fd9b958fd6c"
      },
      "outputs": [
        {
          "output_type": "execute_result",
          "data": {
            "text/plain": [
              "RandomForestClassifier(random_state=42)"
            ],
            "text/html": [
              "<style>#sk-container-id-3 {\n",
              "  /* Definition of color scheme common for light and dark mode */\n",
              "  --sklearn-color-text: #000;\n",
              "  --sklearn-color-text-muted: #666;\n",
              "  --sklearn-color-line: gray;\n",
              "  /* Definition of color scheme for unfitted estimators */\n",
              "  --sklearn-color-unfitted-level-0: #fff5e6;\n",
              "  --sklearn-color-unfitted-level-1: #f6e4d2;\n",
              "  --sklearn-color-unfitted-level-2: #ffe0b3;\n",
              "  --sklearn-color-unfitted-level-3: chocolate;\n",
              "  /* Definition of color scheme for fitted estimators */\n",
              "  --sklearn-color-fitted-level-0: #f0f8ff;\n",
              "  --sklearn-color-fitted-level-1: #d4ebff;\n",
              "  --sklearn-color-fitted-level-2: #b3dbfd;\n",
              "  --sklearn-color-fitted-level-3: cornflowerblue;\n",
              "\n",
              "  /* Specific color for light theme */\n",
              "  --sklearn-color-text-on-default-background: var(--sg-text-color, var(--theme-code-foreground, var(--jp-content-font-color1, black)));\n",
              "  --sklearn-color-background: var(--sg-background-color, var(--theme-background, var(--jp-layout-color0, white)));\n",
              "  --sklearn-color-border-box: var(--sg-text-color, var(--theme-code-foreground, var(--jp-content-font-color1, black)));\n",
              "  --sklearn-color-icon: #696969;\n",
              "\n",
              "  @media (prefers-color-scheme: dark) {\n",
              "    /* Redefinition of color scheme for dark theme */\n",
              "    --sklearn-color-text-on-default-background: var(--sg-text-color, var(--theme-code-foreground, var(--jp-content-font-color1, white)));\n",
              "    --sklearn-color-background: var(--sg-background-color, var(--theme-background, var(--jp-layout-color0, #111)));\n",
              "    --sklearn-color-border-box: var(--sg-text-color, var(--theme-code-foreground, var(--jp-content-font-color1, white)));\n",
              "    --sklearn-color-icon: #878787;\n",
              "  }\n",
              "}\n",
              "\n",
              "#sk-container-id-3 {\n",
              "  color: var(--sklearn-color-text);\n",
              "}\n",
              "\n",
              "#sk-container-id-3 pre {\n",
              "  padding: 0;\n",
              "}\n",
              "\n",
              "#sk-container-id-3 input.sk-hidden--visually {\n",
              "  border: 0;\n",
              "  clip: rect(1px 1px 1px 1px);\n",
              "  clip: rect(1px, 1px, 1px, 1px);\n",
              "  height: 1px;\n",
              "  margin: -1px;\n",
              "  overflow: hidden;\n",
              "  padding: 0;\n",
              "  position: absolute;\n",
              "  width: 1px;\n",
              "}\n",
              "\n",
              "#sk-container-id-3 div.sk-dashed-wrapped {\n",
              "  border: 1px dashed var(--sklearn-color-line);\n",
              "  margin: 0 0.4em 0.5em 0.4em;\n",
              "  box-sizing: border-box;\n",
              "  padding-bottom: 0.4em;\n",
              "  background-color: var(--sklearn-color-background);\n",
              "}\n",
              "\n",
              "#sk-container-id-3 div.sk-container {\n",
              "  /* jupyter's `normalize.less` sets `[hidden] { display: none; }`\n",
              "     but bootstrap.min.css set `[hidden] { display: none !important; }`\n",
              "     so we also need the `!important` here to be able to override the\n",
              "     default hidden behavior on the sphinx rendered scikit-learn.org.\n",
              "     See: https://github.com/scikit-learn/scikit-learn/issues/21755 */\n",
              "  display: inline-block !important;\n",
              "  position: relative;\n",
              "}\n",
              "\n",
              "#sk-container-id-3 div.sk-text-repr-fallback {\n",
              "  display: none;\n",
              "}\n",
              "\n",
              "div.sk-parallel-item,\n",
              "div.sk-serial,\n",
              "div.sk-item {\n",
              "  /* draw centered vertical line to link estimators */\n",
              "  background-image: linear-gradient(var(--sklearn-color-text-on-default-background), var(--sklearn-color-text-on-default-background));\n",
              "  background-size: 2px 100%;\n",
              "  background-repeat: no-repeat;\n",
              "  background-position: center center;\n",
              "}\n",
              "\n",
              "/* Parallel-specific style estimator block */\n",
              "\n",
              "#sk-container-id-3 div.sk-parallel-item::after {\n",
              "  content: \"\";\n",
              "  width: 100%;\n",
              "  border-bottom: 2px solid var(--sklearn-color-text-on-default-background);\n",
              "  flex-grow: 1;\n",
              "}\n",
              "\n",
              "#sk-container-id-3 div.sk-parallel {\n",
              "  display: flex;\n",
              "  align-items: stretch;\n",
              "  justify-content: center;\n",
              "  background-color: var(--sklearn-color-background);\n",
              "  position: relative;\n",
              "}\n",
              "\n",
              "#sk-container-id-3 div.sk-parallel-item {\n",
              "  display: flex;\n",
              "  flex-direction: column;\n",
              "}\n",
              "\n",
              "#sk-container-id-3 div.sk-parallel-item:first-child::after {\n",
              "  align-self: flex-end;\n",
              "  width: 50%;\n",
              "}\n",
              "\n",
              "#sk-container-id-3 div.sk-parallel-item:last-child::after {\n",
              "  align-self: flex-start;\n",
              "  width: 50%;\n",
              "}\n",
              "\n",
              "#sk-container-id-3 div.sk-parallel-item:only-child::after {\n",
              "  width: 0;\n",
              "}\n",
              "\n",
              "/* Serial-specific style estimator block */\n",
              "\n",
              "#sk-container-id-3 div.sk-serial {\n",
              "  display: flex;\n",
              "  flex-direction: column;\n",
              "  align-items: center;\n",
              "  background-color: var(--sklearn-color-background);\n",
              "  padding-right: 1em;\n",
              "  padding-left: 1em;\n",
              "}\n",
              "\n",
              "\n",
              "/* Toggleable style: style used for estimator/Pipeline/ColumnTransformer box that is\n",
              "clickable and can be expanded/collapsed.\n",
              "- Pipeline and ColumnTransformer use this feature and define the default style\n",
              "- Estimators will overwrite some part of the style using the `sk-estimator` class\n",
              "*/\n",
              "\n",
              "/* Pipeline and ColumnTransformer style (default) */\n",
              "\n",
              "#sk-container-id-3 div.sk-toggleable {\n",
              "  /* Default theme specific background. It is overwritten whether we have a\n",
              "  specific estimator or a Pipeline/ColumnTransformer */\n",
              "  background-color: var(--sklearn-color-background);\n",
              "}\n",
              "\n",
              "/* Toggleable label */\n",
              "#sk-container-id-3 label.sk-toggleable__label {\n",
              "  cursor: pointer;\n",
              "  display: flex;\n",
              "  width: 100%;\n",
              "  margin-bottom: 0;\n",
              "  padding: 0.5em;\n",
              "  box-sizing: border-box;\n",
              "  text-align: center;\n",
              "  align-items: start;\n",
              "  justify-content: space-between;\n",
              "  gap: 0.5em;\n",
              "}\n",
              "\n",
              "#sk-container-id-3 label.sk-toggleable__label .caption {\n",
              "  font-size: 0.6rem;\n",
              "  font-weight: lighter;\n",
              "  color: var(--sklearn-color-text-muted);\n",
              "}\n",
              "\n",
              "#sk-container-id-3 label.sk-toggleable__label-arrow:before {\n",
              "  /* Arrow on the left of the label */\n",
              "  content: \"▸\";\n",
              "  float: left;\n",
              "  margin-right: 0.25em;\n",
              "  color: var(--sklearn-color-icon);\n",
              "}\n",
              "\n",
              "#sk-container-id-3 label.sk-toggleable__label-arrow:hover:before {\n",
              "  color: var(--sklearn-color-text);\n",
              "}\n",
              "\n",
              "/* Toggleable content - dropdown */\n",
              "\n",
              "#sk-container-id-3 div.sk-toggleable__content {\n",
              "  max-height: 0;\n",
              "  max-width: 0;\n",
              "  overflow: hidden;\n",
              "  text-align: left;\n",
              "  /* unfitted */\n",
              "  background-color: var(--sklearn-color-unfitted-level-0);\n",
              "}\n",
              "\n",
              "#sk-container-id-3 div.sk-toggleable__content.fitted {\n",
              "  /* fitted */\n",
              "  background-color: var(--sklearn-color-fitted-level-0);\n",
              "}\n",
              "\n",
              "#sk-container-id-3 div.sk-toggleable__content pre {\n",
              "  margin: 0.2em;\n",
              "  border-radius: 0.25em;\n",
              "  color: var(--sklearn-color-text);\n",
              "  /* unfitted */\n",
              "  background-color: var(--sklearn-color-unfitted-level-0);\n",
              "}\n",
              "\n",
              "#sk-container-id-3 div.sk-toggleable__content.fitted pre {\n",
              "  /* unfitted */\n",
              "  background-color: var(--sklearn-color-fitted-level-0);\n",
              "}\n",
              "\n",
              "#sk-container-id-3 input.sk-toggleable__control:checked~div.sk-toggleable__content {\n",
              "  /* Expand drop-down */\n",
              "  max-height: 200px;\n",
              "  max-width: 100%;\n",
              "  overflow: auto;\n",
              "}\n",
              "\n",
              "#sk-container-id-3 input.sk-toggleable__control:checked~label.sk-toggleable__label-arrow:before {\n",
              "  content: \"▾\";\n",
              "}\n",
              "\n",
              "/* Pipeline/ColumnTransformer-specific style */\n",
              "\n",
              "#sk-container-id-3 div.sk-label input.sk-toggleable__control:checked~label.sk-toggleable__label {\n",
              "  color: var(--sklearn-color-text);\n",
              "  background-color: var(--sklearn-color-unfitted-level-2);\n",
              "}\n",
              "\n",
              "#sk-container-id-3 div.sk-label.fitted input.sk-toggleable__control:checked~label.sk-toggleable__label {\n",
              "  background-color: var(--sklearn-color-fitted-level-2);\n",
              "}\n",
              "\n",
              "/* Estimator-specific style */\n",
              "\n",
              "/* Colorize estimator box */\n",
              "#sk-container-id-3 div.sk-estimator input.sk-toggleable__control:checked~label.sk-toggleable__label {\n",
              "  /* unfitted */\n",
              "  background-color: var(--sklearn-color-unfitted-level-2);\n",
              "}\n",
              "\n",
              "#sk-container-id-3 div.sk-estimator.fitted input.sk-toggleable__control:checked~label.sk-toggleable__label {\n",
              "  /* fitted */\n",
              "  background-color: var(--sklearn-color-fitted-level-2);\n",
              "}\n",
              "\n",
              "#sk-container-id-3 div.sk-label label.sk-toggleable__label,\n",
              "#sk-container-id-3 div.sk-label label {\n",
              "  /* The background is the default theme color */\n",
              "  color: var(--sklearn-color-text-on-default-background);\n",
              "}\n",
              "\n",
              "/* On hover, darken the color of the background */\n",
              "#sk-container-id-3 div.sk-label:hover label.sk-toggleable__label {\n",
              "  color: var(--sklearn-color-text);\n",
              "  background-color: var(--sklearn-color-unfitted-level-2);\n",
              "}\n",
              "\n",
              "/* Label box, darken color on hover, fitted */\n",
              "#sk-container-id-3 div.sk-label.fitted:hover label.sk-toggleable__label.fitted {\n",
              "  color: var(--sklearn-color-text);\n",
              "  background-color: var(--sklearn-color-fitted-level-2);\n",
              "}\n",
              "\n",
              "/* Estimator label */\n",
              "\n",
              "#sk-container-id-3 div.sk-label label {\n",
              "  font-family: monospace;\n",
              "  font-weight: bold;\n",
              "  display: inline-block;\n",
              "  line-height: 1.2em;\n",
              "}\n",
              "\n",
              "#sk-container-id-3 div.sk-label-container {\n",
              "  text-align: center;\n",
              "}\n",
              "\n",
              "/* Estimator-specific */\n",
              "#sk-container-id-3 div.sk-estimator {\n",
              "  font-family: monospace;\n",
              "  border: 1px dotted var(--sklearn-color-border-box);\n",
              "  border-radius: 0.25em;\n",
              "  box-sizing: border-box;\n",
              "  margin-bottom: 0.5em;\n",
              "  /* unfitted */\n",
              "  background-color: var(--sklearn-color-unfitted-level-0);\n",
              "}\n",
              "\n",
              "#sk-container-id-3 div.sk-estimator.fitted {\n",
              "  /* fitted */\n",
              "  background-color: var(--sklearn-color-fitted-level-0);\n",
              "}\n",
              "\n",
              "/* on hover */\n",
              "#sk-container-id-3 div.sk-estimator:hover {\n",
              "  /* unfitted */\n",
              "  background-color: var(--sklearn-color-unfitted-level-2);\n",
              "}\n",
              "\n",
              "#sk-container-id-3 div.sk-estimator.fitted:hover {\n",
              "  /* fitted */\n",
              "  background-color: var(--sklearn-color-fitted-level-2);\n",
              "}\n",
              "\n",
              "/* Specification for estimator info (e.g. \"i\" and \"?\") */\n",
              "\n",
              "/* Common style for \"i\" and \"?\" */\n",
              "\n",
              ".sk-estimator-doc-link,\n",
              "a:link.sk-estimator-doc-link,\n",
              "a:visited.sk-estimator-doc-link {\n",
              "  float: right;\n",
              "  font-size: smaller;\n",
              "  line-height: 1em;\n",
              "  font-family: monospace;\n",
              "  background-color: var(--sklearn-color-background);\n",
              "  border-radius: 1em;\n",
              "  height: 1em;\n",
              "  width: 1em;\n",
              "  text-decoration: none !important;\n",
              "  margin-left: 0.5em;\n",
              "  text-align: center;\n",
              "  /* unfitted */\n",
              "  border: var(--sklearn-color-unfitted-level-1) 1pt solid;\n",
              "  color: var(--sklearn-color-unfitted-level-1);\n",
              "}\n",
              "\n",
              ".sk-estimator-doc-link.fitted,\n",
              "a:link.sk-estimator-doc-link.fitted,\n",
              "a:visited.sk-estimator-doc-link.fitted {\n",
              "  /* fitted */\n",
              "  border: var(--sklearn-color-fitted-level-1) 1pt solid;\n",
              "  color: var(--sklearn-color-fitted-level-1);\n",
              "}\n",
              "\n",
              "/* On hover */\n",
              "div.sk-estimator:hover .sk-estimator-doc-link:hover,\n",
              ".sk-estimator-doc-link:hover,\n",
              "div.sk-label-container:hover .sk-estimator-doc-link:hover,\n",
              ".sk-estimator-doc-link:hover {\n",
              "  /* unfitted */\n",
              "  background-color: var(--sklearn-color-unfitted-level-3);\n",
              "  color: var(--sklearn-color-background);\n",
              "  text-decoration: none;\n",
              "}\n",
              "\n",
              "div.sk-estimator.fitted:hover .sk-estimator-doc-link.fitted:hover,\n",
              ".sk-estimator-doc-link.fitted:hover,\n",
              "div.sk-label-container:hover .sk-estimator-doc-link.fitted:hover,\n",
              ".sk-estimator-doc-link.fitted:hover {\n",
              "  /* fitted */\n",
              "  background-color: var(--sklearn-color-fitted-level-3);\n",
              "  color: var(--sklearn-color-background);\n",
              "  text-decoration: none;\n",
              "}\n",
              "\n",
              "/* Span, style for the box shown on hovering the info icon */\n",
              ".sk-estimator-doc-link span {\n",
              "  display: none;\n",
              "  z-index: 9999;\n",
              "  position: relative;\n",
              "  font-weight: normal;\n",
              "  right: .2ex;\n",
              "  padding: .5ex;\n",
              "  margin: .5ex;\n",
              "  width: min-content;\n",
              "  min-width: 20ex;\n",
              "  max-width: 50ex;\n",
              "  color: var(--sklearn-color-text);\n",
              "  box-shadow: 2pt 2pt 4pt #999;\n",
              "  /* unfitted */\n",
              "  background: var(--sklearn-color-unfitted-level-0);\n",
              "  border: .5pt solid var(--sklearn-color-unfitted-level-3);\n",
              "}\n",
              "\n",
              ".sk-estimator-doc-link.fitted span {\n",
              "  /* fitted */\n",
              "  background: var(--sklearn-color-fitted-level-0);\n",
              "  border: var(--sklearn-color-fitted-level-3);\n",
              "}\n",
              "\n",
              ".sk-estimator-doc-link:hover span {\n",
              "  display: block;\n",
              "}\n",
              "\n",
              "/* \"?\"-specific style due to the `<a>` HTML tag */\n",
              "\n",
              "#sk-container-id-3 a.estimator_doc_link {\n",
              "  float: right;\n",
              "  font-size: 1rem;\n",
              "  line-height: 1em;\n",
              "  font-family: monospace;\n",
              "  background-color: var(--sklearn-color-background);\n",
              "  border-radius: 1rem;\n",
              "  height: 1rem;\n",
              "  width: 1rem;\n",
              "  text-decoration: none;\n",
              "  /* unfitted */\n",
              "  color: var(--sklearn-color-unfitted-level-1);\n",
              "  border: var(--sklearn-color-unfitted-level-1) 1pt solid;\n",
              "}\n",
              "\n",
              "#sk-container-id-3 a.estimator_doc_link.fitted {\n",
              "  /* fitted */\n",
              "  border: var(--sklearn-color-fitted-level-1) 1pt solid;\n",
              "  color: var(--sklearn-color-fitted-level-1);\n",
              "}\n",
              "\n",
              "/* On hover */\n",
              "#sk-container-id-3 a.estimator_doc_link:hover {\n",
              "  /* unfitted */\n",
              "  background-color: var(--sklearn-color-unfitted-level-3);\n",
              "  color: var(--sklearn-color-background);\n",
              "  text-decoration: none;\n",
              "}\n",
              "\n",
              "#sk-container-id-3 a.estimator_doc_link.fitted:hover {\n",
              "  /* fitted */\n",
              "  background-color: var(--sklearn-color-fitted-level-3);\n",
              "}\n",
              "</style><div id=\"sk-container-id-3\" class=\"sk-top-container\"><div class=\"sk-text-repr-fallback\"><pre>RandomForestClassifier(random_state=42)</pre><b>In a Jupyter environment, please rerun this cell to show the HTML representation or trust the notebook. <br />On GitHub, the HTML representation is unable to render, please try loading this page with nbviewer.org.</b></div><div class=\"sk-container\" hidden><div class=\"sk-item\"><div class=\"sk-estimator fitted sk-toggleable\"><input class=\"sk-toggleable__control sk-hidden--visually\" id=\"sk-estimator-id-3\" type=\"checkbox\" checked><label for=\"sk-estimator-id-3\" class=\"sk-toggleable__label fitted sk-toggleable__label-arrow\"><div><div>RandomForestClassifier</div></div><div><a class=\"sk-estimator-doc-link fitted\" rel=\"noreferrer\" target=\"_blank\" href=\"https://scikit-learn.org/1.6/modules/generated/sklearn.ensemble.RandomForestClassifier.html\">?<span>Documentation for RandomForestClassifier</span></a><span class=\"sk-estimator-doc-link fitted\">i<span>Fitted</span></span></div></label><div class=\"sk-toggleable__content fitted\"><pre>RandomForestClassifier(random_state=42)</pre></div> </div></div></div></div>"
            ]
          },
          "metadata": {},
          "execution_count": 26
        }
      ],
      "source": [
        "rf_model = RandomForestClassifier(random_state=42)\n",
        "rf_model.fit(X_train, y_train)"
      ]
    },
    {
      "cell_type": "markdown",
      "metadata": {
        "id": "HMYlpBiFMu5R"
      },
      "source": [
        "5.3.1 Feature Importances:"
      ]
    },
    {
      "cell_type": "code",
      "execution_count": null,
      "metadata": {
        "id": "bRcLUygTMuQ8"
      },
      "outputs": [],
      "source": [
        "# 1. Getting Feature Importances:\n",
        "feature_importances = rf_model.feature_importances_\n",
        "\n",
        "# 2. Sorting Feature Importances\n",
        "sorted_indices = feature_importances.argsort()[::-1]  # Descending order\n",
        "\n",
        "# Keep top 10 features\n",
        "n_features_to_keep = 10\n",
        "top_feature_indices = sorted_indices[:n_features_to_keep]\n",
        "X_train_selected = X_train[:, top_feature_indices]\n",
        "X_test_selected = X_test[:, top_feature_indices]\n"
      ]
    },
    {
      "cell_type": "markdown",
      "metadata": {
        "id": "jrVk31dvnpSp"
      },
      "source": [
        "5.3.2  Model Evaluation for Random Forest"
      ]
    },
    {
      "cell_type": "code",
      "execution_count": null,
      "metadata": {
        "id": "CMyfKPUt4hEd"
      },
      "outputs": [],
      "source": [
        "rf_model.fit(X_train_selected, y_train)\n",
        "rf_y_pred = rf_model.predict(X_test_selected)"
      ]
    },
    {
      "cell_type": "code",
      "execution_count": null,
      "metadata": {
        "id": "wy4DUrDrnwkg",
        "colab": {
          "base_uri": "https://localhost:8080/"
        },
        "outputId": "07d68555-fbd5-49de-b939-97695eefefae"
      },
      "outputs": [
        {
          "output_type": "stream",
          "name": "stdout",
          "text": [
            "Accuracy: 93.70249728555918 %\n",
            "____________________________________________________________\n",
            "\n",
            "              precision    recall  f1-score   support\n",
            "\n",
            "           0       0.93      0.97      0.95       531\n",
            "           1       0.95      0.90      0.92       390\n",
            "\n",
            "    accuracy                           0.94       921\n",
            "   macro avg       0.94      0.93      0.93       921\n",
            "weighted avg       0.94      0.94      0.94       921\n",
            "\n"
          ]
        }
      ],
      "source": [
        "# Evaluation metrics\n",
        "accuracy = accuracy_score(y_test, rf_y_pred) * 100\n",
        "print(f\"Accuracy: {accuracy}\", \"%\")\n",
        "print(\"_\" * 60)\n",
        "print()\n",
        "print(classification_report(y_test, rf_y_pred)) # Shows precision, recall, F1-score\n"
      ]
    },
    {
      "cell_type": "markdown",
      "metadata": {
        "id": "pPZgrgs_rapq"
      },
      "source": [
        "Confusion Matrix:\n"
      ]
    },
    {
      "cell_type": "code",
      "execution_count": null,
      "metadata": {
        "id": "l_8kjCkOrq6D",
        "colab": {
          "base_uri": "https://localhost:8080/",
          "height": 489
        },
        "outputId": "1111ca23-bd0b-452c-f1df-e0e35332c15f"
      },
      "outputs": [
        {
          "output_type": "display_data",
          "data": {
            "text/plain": [
              "<Figure size 500x500 with 0 Axes>"
            ]
          },
          "metadata": {}
        },
        {
          "output_type": "display_data",
          "data": {
            "text/plain": [
              "<Figure size 640x480 with 2 Axes>"
            ],
            "image/png": "[encoded data removed]"
          },
          "metadata": {}
        }
      ],
      "source": [
        "# 1. Confusion Matrix:\n",
        "plt.figure(figsize=(5, 5))\n",
        "ConfusionMatrixDisplay(confusion_matrix(y_test, rf_y_pred), display_labels=rf_model.classes_).plot()\n",
        "plt.title(\"Confusion Matrix\")\n",
        "plt.show()"
      ]
    },
    {
      "cell_type": "markdown",
      "metadata": {
        "id": "AT5pZyh-nt6-"
      },
      "source": [
        "5.3.3 Hyperparameter Tuning for Random Forest"
      ]
    },
    {
      "cell_type": "code",
      "execution_count": null,
      "metadata": {
        "id": "4EwsXHyUofxj",
        "colab": {
          "base_uri": "https://localhost:8080/"
        },
        "outputId": "a236ca0f-9cf0-41b1-90f4-28db7074ede6"
      },
      "outputs": [
        {
          "output_type": "stream",
          "name": "stdout",
          "text": [
            "Fitting 5 folds for each of 81 candidates, totalling 405 fits\n",
            "\n",
            "Tuned Random Forest:\n",
            "Tuned Accuracy: 95.87%\n",
            "____________________________________________________________\n",
            "\n",
            "              precision    recall  f1-score   support\n",
            "\n",
            "           0       0.94      0.99      0.97       531\n",
            "           1       0.98      0.92      0.95       390\n",
            "\n",
            "    accuracy                           0.96       921\n",
            "   macro avg       0.96      0.95      0.96       921\n",
            "weighted avg       0.96      0.96      0.96       921\n",
            "\n",
            "Best Hyperparameters: {'max_depth': None, 'min_samples_leaf': 1, 'min_samples_split': 2, 'n_estimators': 200}\n"
          ]
        }
      ],
      "source": [
        "param_grid_rf = {\n",
        "    'n_estimators': [50, 100, 200],\n",
        "    'max_depth': [None, 10, 20],  # Include None for no max depth\n",
        "    'min_samples_split': [2, 5, 10],\n",
        "    'min_samples_leaf': [1, 2, 4]\n",
        "}\n",
        "\n",
        "grid_search_rf = GridSearchCV(RandomForestClassifier(random_state=42), param_grid_rf, cv=5, verbose=1, n_jobs=-1, scoring='f1') # Use F1 score for tuning, especially if imbalanced\n",
        "grid_search_rf.fit(X_train, y_train)\n",
        "\n",
        "best_rf_model = grid_search_rf.best_estimator_\n",
        "rf_y_pred_tuned = best_rf_model.predict(X_test)\n",
        "\n",
        "print(\"\\nTuned Random Forest:\")\n",
        "\n",
        "accuracy_tuned = accuracy_score(y_test, rf_y_pred_tuned) * 100\n",
        "\n",
        "print(f\"Tuned Accuracy: {accuracy_tuned:.2f}%\")\n",
        "print(\"_\" * 60)\n",
        "print()\n",
        "print(classification_report(y_test, rf_y_pred_tuned))\n",
        "\n",
        "\n",
        "print(\"Best Hyperparameters:\", grid_search_rf.best_params_)\n"
      ]
    },
    {
      "cell_type": "markdown",
      "metadata": {
        "id": "dwKdoFFhszFX"
      },
      "source": [
        "Confusion Matrix:"
      ]
    },
    {
      "cell_type": "code",
      "execution_count": null,
      "metadata": {
        "id": "dVVq3xOusywd",
        "colab": {
          "base_uri": "https://localhost:8080/",
          "height": 489
        },
        "outputId": "bdb1dba0-32fb-45b7-e859-acd020e0128c"
      },
      "outputs": [
        {
          "output_type": "display_data",
          "data": {
            "text/plain": [
              "<Figure size 500x500 with 0 Axes>"
            ]
          },
          "metadata": {}
        },
        {
          "output_type": "display_data",
          "data": {
            "text/plain": [
              "<Figure size 640x480 with 2 Axes>"
            ],
            "image/png": "[encoded data removed]"
          },
          "metadata": {}
        }
      ],
      "source": [
        "# 1. Confusion Matrix:\n",
        "plt.figure(figsize=(5, 5))\n",
        "ConfusionMatrixDisplay(confusion_matrix(y_test, rf_y_pred_tuned), display_labels=rf_model.classes_).plot()\n",
        "plt.title(\"Confusion Matrix\")\n",
        "plt.show()"
      ]
    },
    {
      "cell_type": "markdown",
      "metadata": {
        "id": "Ptv20Avqs3L0"
      },
      "source": [
        "ROC Curve and AUC:"
      ]
    },
    {
      "cell_type": "code",
      "execution_count": null,
      "metadata": {
        "id": "QHe7l7HJs3X1",
        "colab": {
          "base_uri": "https://localhost:8080/",
          "height": 487
        },
        "outputId": "8064b499-9ec6-4e21-8d04-f81dcbd4e566"
      },
      "outputs": [
        {
          "output_type": "display_data",
          "data": {
            "text/plain": [
              "<Figure size 500x500 with 1 Axes>"
            ],
            "image/png": "[encoded data removed]"
          },
          "metadata": {}
        }
      ],
      "source": [
        "rf_y_pred_proba = rf_model.predict_proba(X_test_selected)[:, 1]  # Prob. of positive class (class 1)\n",
        "\n",
        "plt.figure(figsize=(5, 5))\n",
        "fpr, tpr, _ = roc_curve(y_test, rf_y_pred_proba)\n",
        "roc_auc = auc(fpr, tpr)\n",
        "plt.plot(fpr, tpr, label=f'AUC = {roc_auc:.2f}')\n",
        "plt.plot([0, 1], [0, 1], 'k--')  # Add a diagonal line for random classifier\n",
        "plt.xlabel('False Positive Rate')\n",
        "plt.ylabel('True Positive Rate')\n",
        "plt.title('ROC Curve')\n",
        "plt.legend(loc='lower right')\n",
        "plt.show()"
      ]
    },
    {
      "cell_type": "markdown",
      "metadata": {
        "id": "IIQxyDNOs3nv"
      },
      "source": [
        "Precision-Recall Curve:"
      ]
    },
    {
      "cell_type": "code",
      "execution_count": null,
      "metadata": {
        "id": "BNqOsaPqs3xn",
        "colab": {
          "base_uri": "https://localhost:8080/",
          "height": 487
        },
        "outputId": "dc176096-4643-4633-c9c2-bb62d58f1222"
      },
      "outputs": [
        {
          "output_type": "display_data",
          "data": {
            "text/plain": [
              "<Figure size 500x500 with 1 Axes>"
            ],
            "image/png": "[encoded data removed]"
          },
          "metadata": {}
        }
      ],
      "source": [
        "plt.figure(figsize=(5, 5))\n",
        "precision, recall, _ = precision_recall_curve(y_test, rf_y_pred_proba)\n",
        "pr_auc = auc(recall, precision)  # Area under the curve\n",
        "plt.plot(recall, precision, label=f'AUC = {pr_auc:.2f}')\n",
        "plt.xlabel('Recall')\n",
        "plt.ylabel('Precision')\n",
        "plt.title('Precision-Recall Curve')\n",
        "plt.legend(loc='lower left')\n",
        "plt.show()"
      ]
    },
    {
      "cell_type": "markdown",
      "metadata": {
        "id": "r0UdTii1nxRg"
      },
      "source": [
        "5.3.4 Cross-Validation for Random Forest"
      ]
    },
    {
      "cell_type": "code",
      "execution_count": null,
      "metadata": {
        "id": "4fAiYlHromom",
        "colab": {
          "base_uri": "https://localhost:8080/"
        },
        "outputId": "c7a6e7e9-6289-424e-9299-4e12e95b92e4"
      },
      "outputs": [
        {
          "output_type": "stream",
          "name": "stdout",
          "text": [
            "\n",
            "Random Forest Cross-validation scores: [0.93370945 0.92528736 0.94444444 0.96638655 0.79490446]\n",
            "Mean cross-validation F1: 0.9129464527832672\n"
          ]
        }
      ],
      "source": [
        "cv_scores_rf = cross_val_score(best_rf_model, X_scaled, y, cv=5, scoring='f1') # Use F1 score for CV as well\n",
        "print(f\"\\nRandom Forest Cross-validation scores: {cv_scores_rf}\")\n",
        "print(f\"Mean cross-validation F1: {cv_scores_rf.mean()}\")"
      ]
    },
    {
      "cell_type": "markdown",
      "metadata": {
        "id": "eH3_EBJ5qx_U"
      },
      "source": [
        "___________________________________________________________________________________________________\n"
      ]
    },
    {
      "cell_type": "markdown",
      "metadata": {
        "id": "86VirrrUNyoF"
      },
      "source": [
        "# Summary of the findings"
      ]
    },
    {
      "cell_type": "markdown",
      "metadata": {
        "id": "mEaVUfyVW78p"
      },
      "source": [
        "![Screenshot 2025-02-19 at 4.18.46 PM.jpeg](data:image/jpeg;base64,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)"
      ]
    },
    {
      "cell_type": "markdown",
      "metadata": {
        "id": "ZwBdaeagSznp"
      },
      "source": [
        "Key Observations:"
      ]
    },
    {
      "cell_type": "markdown",
      "metadata": {
        "id": "rzWFWd18WODD"
      },
      "source": [
        "\n",
        "* Random Forest consistently outperformed both Gaussian Naive Bayes and Logistic Regression, both before and after tuning. This is likely due to its ability to handle non-linear relationships and high dimensionality more effectively.\n",
        "\n",
        "* Hyperparameter tuning made a noticeable difference for the Random Forest model, while the effect was minimal for the other models. This highlights the importance of tuning, especially for complex models with many tunable parameters.\n",
        "\n",
        "* The slight decrease in Logistic Regression accuracy after tuning could be due to random variation, emphasizing the need for robust evaluation methods such as cross-validation. The tuned model may generalize slightly better.\n",
        "\n"
      ]
    },
    {
      "cell_type": "markdown",
      "metadata": {
        "id": "koBZfk_USzqN"
      },
      "source": [
        "Limitations:"
      ]
    },
    {
      "cell_type": "markdown",
      "metadata": {
        "id": "P5NHFtEGSzsk"
      },
      "source": [
        "This analysis is subject to several limitations.\n",
        "\n",
        "The Spambase dataset, while a valuable resource, may not fully represent the complexity and evolving nature of modern spam. Its age and potential biases in data collection could affect the generalizability of our models.\n",
        "\n",
        "Furthermore, While Random Forest, a relatively complex model, was used, other algorithms like Gradient Boosting or Neural Networks might offer higher accuracy, though at the cost of increased computational resources and reduced interpretability.\n"
      ]
    }
  ],
  "metadata": {
    "colab": {
      "provenance": []
    },
    "kernelspec": {
      "display_name": "Python 3",
      "name": "python3"
    },
    "language_info": {
      "name": "python"
    }
  },
  "nbformat": 4,
  "nbformat_minor": 0
}